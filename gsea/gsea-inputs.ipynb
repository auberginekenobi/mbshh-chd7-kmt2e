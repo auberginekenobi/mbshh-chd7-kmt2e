{
 "cells": [
  {
   "cell_type": "markdown",
   "id": "1d0605ee-0ddd-4fbf-acd7-28473e0042da",
   "metadata": {},
   "source": [
    "## GSEA\n",
    "Prep single cell data for GSEA  \n",
    "**Prerequisites**  \n",
    "Perform batch correction on Shiraishi *et al* data. See batch-correction-scgen.ipynb.  \n",
    "\n",
    "dataset is 3808 gnp, 6911 pnc, and 3279 tumor cells, totalling 13998 cells across 14044 genes.  \n",
    "Note that GSEA is theoretically able to handle more than 2 phenotypes, but I ran into Java heap space errors so it was simpler to split into pairwise datasets."
   ]
  },
  {
   "cell_type": "code",
   "execution_count": null,
   "id": "2aa15aaf-0871-4f86-92ee-f5b430a1d882",
   "metadata": {},
   "outputs": [],
   "source": [
    "import anndata as ad\n",
    "import sys\n",
    "sys.path.append('/Users/ochapman/projects/oscutils/')\n",
    "import gsea_converters"
   ]
  },
  {
   "cell_type": "markdown",
   "id": "f7dcebfe-ecb1-4304-9546-072b68fbdfd0",
   "metadata": {},
   "source": [
    "## pnc vs tumor"
   ]
  },
  {
   "cell_type": "code",
   "execution_count": null,
   "id": "b2ba36e7-51c3-4726-b134-ff6ad1bc8862",
   "metadata": {},
   "outputs": [],
   "source": [
    "path='../single-cell/out/shiraishi_merge.h5ad'\n",
    "data=ad.read_h5ad(path)\n",
    "data = data[data.obs.annotation.isin(['ProliferativeCells','DifferentiatedCells']) & data.obs['sample'].isin(['pnc','tumor'])].copy()\n",
    "data"
   ]
  },
  {
   "cell_type": "code",
   "execution_count": null,
   "id": "13f15d4e-de7d-405c-bc46-17362d157f2f",
   "metadata": {},
   "outputs": [],
   "source": [
    "#data[data.obs['sample'] == 'pnc']\n",
    "#data[data.obs['sample'] == 'tumor']"
   ]
  },
  {
   "cell_type": "code",
   "execution_count": null,
   "id": "c237dce0-c434-45d5-af9f-dd9ef1c85d98",
   "metadata": {},
   "outputs": [],
   "source": [
    "gsea_converters.exp2gct(\n",
    "    df = data.to_df().T,\n",
    "    outfile = 'data/scgen_batch_tumor_pnc.gct'\n",
    ")\n",
    "gsea_converters.labels2cls(\n",
    "    series = data.obs['sample'],\n",
    "    outfile = 'data/scgen_batch_tumor_pnc.cls'\n",
    ")\n"
   ]
  },
  {
   "cell_type": "markdown",
   "id": "932e3a0f-66d0-453a-b08f-ee14d0b63a21",
   "metadata": {},
   "source": [
    "## gnp vs pnc"
   ]
  },
  {
   "cell_type": "code",
   "execution_count": null,
   "id": "85820601-3a1c-46a4-8bbb-f9f029db2702",
   "metadata": {},
   "outputs": [],
   "source": [
    "path='../single-cell/out/shiraishi_merge.h5ad'\n",
    "data=ad.read_h5ad(path)\n",
    "data = data[data.obs.annotation.isin(['ProliferativeCells','DifferentiatedCells']) & data.obs['sample'].isin(['pnc','gnp'])].copy()\n",
    "data"
   ]
  },
  {
   "cell_type": "code",
   "execution_count": null,
   "id": "f785dcb0-455f-489b-8276-9fbfc7c455c9",
   "metadata": {},
   "outputs": [],
   "source": [
    "data[data.obs['sample'] == 'pnc']\n",
    "data[data.obs['sample'] == 'gnp']"
   ]
  },
  {
   "cell_type": "code",
   "execution_count": null,
   "id": "29007ab8-3783-40cf-85c1-a9aa01aa4954",
   "metadata": {},
   "outputs": [],
   "source": [
    "gsea_converters.exp2gct(\n",
    "    df = data.to_df().T,\n",
    "    outfile = 'data/scgen_batch_pnc_gnp.gct'\n",
    ")\n",
    "gsea_converters.labels2cls(\n",
    "    series = data.obs['sample'],\n",
    "    outfile = 'data/scgen_batch_pnc_gnp.cls'\n",
    ")\n"
   ]
  },
  {
   "cell_type": "markdown",
   "id": "bd7801c3-9056-40d2-add4-a25953d3fd37",
   "metadata": {},
   "source": [
    "## gnp vs tumor"
   ]
  },
  {
   "cell_type": "code",
   "execution_count": null,
   "id": "93e45177-6b13-4697-aabc-21b0c2cfb417",
   "metadata": {},
   "outputs": [],
   "source": [
    "path='../single-cell/out/shiraishi_merge.h5ad'\n",
    "data=ad.read_h5ad(path)\n",
    "data = data[data.obs.annotation.isin(['ProliferativeCells','DifferentiatedCells']) & data.obs['sample'].isin(['tumor','gnp'])].copy()\n",
    "data"
   ]
  },
  {
   "cell_type": "code",
   "execution_count": null,
   "id": "550ab4f6-d975-4bc9-987f-e47f5cef0d88",
   "metadata": {},
   "outputs": [],
   "source": [
    "gsea_converters.exp2gct(\n",
    "    df = data.to_df().T,\n",
    "    outfile = 'data/scgen_batch_tumor_gnp.gct'\n",
    ")\n",
    "gsea_converters.labels2cls(\n",
    "    series = data.obs['sample'],\n",
    "    outfile = 'data/scgen_batch_tumor_gnp.cls'\n",
    ")\n"
   ]
  },
  {
   "cell_type": "markdown",
   "id": "43f1a8d0-a006-4c97-9f0f-ddfc537759cb",
   "metadata": {},
   "source": [
    "## gene sets"
   ]
  },
  {
   "cell_type": "code",
   "execution_count": null,
   "id": "b7d1beea-e4ce-4a57-baad-977b86770b58",
   "metadata": {},
   "outputs": [],
   "source": [
    "genes = ['Cacna1e','Cntnap4','Grin2b','Kcnk1','Neurod1','Samd12','Scrt2','Tex14','Tll1','Zmat4']\n",
    "comments = ['chd7-kmt2c-targets','Chd7 and Kmt2c targets nominated by differential expression of Ptch1+/- vs DKO mice.']\n",
    "gsea_converters.iterable2grp(genes,'data/chd7-kmt2c-targets.grp',comment=comments)"
   ]
  }
 ],
 "metadata": {
  "kernelspec": {
   "display_name": "scgen",
   "language": "python",
   "name": "scgen"
  },
  "language_info": {
   "codemirror_mode": {
    "name": "ipython",
    "version": 3
   },
   "file_extension": ".py",
   "mimetype": "text/x-python",
   "name": "python",
   "nbconvert_exporter": "python",
   "pygments_lexer": "ipython3",
   "version": "3.12.7"
  }
 },
 "nbformat": 4,
 "nbformat_minor": 5
}
