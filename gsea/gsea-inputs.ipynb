{
 "cells": [
  {
   "cell_type": "markdown",
   "id": "1d0605ee-0ddd-4fbf-acd7-28473e0042da",
   "metadata": {},
   "source": [
    "## GSEA\n",
    "Prep single cell data for GSEA  \n",
    "**Prerequisites**  \n",
    "Perform batch correction on Shiraishi *et al* data. See batch-correction-scgen.ipynb.  \n"
   ]
  },
  {
   "cell_type": "code",
   "execution_count": null,
   "id": "2aa15aaf-0871-4f86-92ee-f5b430a1d882",
   "metadata": {},
   "outputs": [],
   "source": [
    "import anndata as ad\n",
    "import sys\n",
    "sys.path.append('/Users/ochapman/projects/oscutils/')\n",
    "import gsea_converters"
   ]
  },
  {
   "cell_type": "code",
   "execution_count": null,
   "id": "b2ba36e7-51c3-4726-b134-ff6ad1bc8862",
   "metadata": {},
   "outputs": [],
   "source": [
    "path='../single-cell/out/shiraishi_merge.h5ad'\n",
    "data=ad.read_h5ad(path)\n",
    "data = data[data.obs.annotation.isin(['ProliferativeCells','DifferentiatedCells']) & data.obs['sample'].isin(['pnc','tumor'])].copy()\n",
    "#data"
   ]
  },
  {
   "cell_type": "code",
   "execution_count": null,
   "id": "c237dce0-c434-45d5-af9f-dd9ef1c85d98",
   "metadata": {},
   "outputs": [],
   "source": [
    "gsea_converters.exp2gct(\n",
    "    df = data.to_df().T,\n",
    "    outfile = 'data/scgen_batch_tumor_pnc.gct'\n",
    ")\n",
    "gsea_converters.labels2cls(\n",
    "    series = data.obs['sample'],\n",
    "    outfile = 'data/scgen_tumor_pnc.cls'\n",
    ")\n"
   ]
  },
  {
   "cell_type": "code",
   "execution_count": null,
   "id": "b7d1beea-e4ce-4a57-baad-977b86770b58",
   "metadata": {},
   "outputs": [],
   "source": [
    "genes = ['Cacna1e','Cntnap4','Grin2b','Kcnk1','Neurod1','Samd12','Scrt2','Tex14','Tll1','Zmat4']\n",
    "comments = ['chd7-kmt2c-targets','Chd7 and Kmt2c targets nominated by differential expression of Ptch1+/- vs DKO mice.']\n",
    "iterable2grp(genes,'data/chd7-kmt2c-targets.grp',comment=comments)"
   ]
  }
 ],
 "metadata": {
  "kernelspec": {
   "display_name": "scgen",
   "language": "python",
   "name": "scgen"
  },
  "language_info": {
   "codemirror_mode": {
    "name": "ipython",
    "version": 3
   },
   "file_extension": ".py",
   "mimetype": "text/x-python",
   "name": "python",
   "nbconvert_exporter": "python",
   "pygments_lexer": "ipython3",
   "version": "3.12.7"
  }
 },
 "nbformat": 4,
 "nbformat_minor": 5
}
