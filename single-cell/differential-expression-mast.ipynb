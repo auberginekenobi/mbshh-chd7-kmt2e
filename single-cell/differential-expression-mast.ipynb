{
 "cells": [
  {
   "cell_type": "markdown",
   "id": "fb271597-bd71-4443-bbda-3940706c4d7a",
   "metadata": {},
   "source": [
    "# Differential expression\n",
    "What genes are upregulated in tumor vs. pnc hyperplastic cells?  \n",
    "**Prerequisites**  \n",
    "Perform batch correction on Shiraishi *et al* data. See batch-correction-scgen.ipynb.\n",
    "\n",
    "## Introduction\n",
    "Concordance across DEG approaches is low. Pseudobulk analyses outperform cell-level analyses. [source](https://www.sc-best-practices.org/conditions/differential_gene_expression.html).  \n",
    "However, we have only 1 scRNA sample per phenotype (gnp, pnc, tumor). Therefore, we have to do it at the cell level.  \n",
    "To estimate concordance, we will perform a few different analyses:\n",
    "- T-test (https://scanpy.readthedocs.io/en/stable/generated/scanpy.tl.rank_genes_groups.html)\n",
    "- generalized linear model (GLM) on single cell data (MAST, implemented here)\n",
    "- GLM on bulk RNA-seq (edgeR, to be implemented in a new notebook).\n"
   ]
  },
  {
   "cell_type": "markdown",
   "id": "7b8f1f19-5aa5-4d21-bf0c-7272856811eb",
   "metadata": {},
   "source": [
    "## MAST\n",
    "Following the tutorial at https://www.sc-best-practices.org/conditions/differential_gene_expression.html#single-cell-specific"
   ]
  },
  {
   "cell_type": "code",
   "execution_count": null,
   "id": "2afcba12-e2e6-48e2-953b-e51051b96853",
   "metadata": {
    "scrolled": true
   },
   "outputs": [],
   "source": [
    "Sys.setenv(LANGUAGE = \"en\") # set language to \"ja\" if you prefer\n",
    "\n",
    "library(zellkonverter)\n",
    "library(MAST)"
   ]
  },
  {
   "cell_type": "code",
   "execution_count": null,
   "id": "88dc76fc-e10a-471d-afcc-eec9c627dee2",
   "metadata": {
    "scrolled": true
   },
   "outputs": [],
   "source": [
    "path='out/shiraishi_merge.h5ad'\n",
    "data = readH5AD(path, verbose = TRUE)\n",
    "data"
   ]
  },
  {
   "cell_type": "code",
   "execution_count": null,
   "id": "9280d414-b1d9-4e78-b49d-93f38a9d7815",
   "metadata": {
    "scrolled": true
   },
   "outputs": [],
   "source": [
    "# create a MAST object\n",
    "sca <- SceToSingleCellAssay(data, class = \"SingleCellAssay\")\n",
    "\n",
    "sca <- sca[,colData(sca)$annotation %in% c(\"ProliferativeCells\", \"DifferentiatedCells\")]\n",
    "sca"
   ]
  },
  {
   "cell_type": "code",
   "execution_count": null,
   "id": "aaea16f8-080b-4727-b2ed-b939bf9454de",
   "metadata": {
    "scrolled": true
   },
   "outputs": [],
   "source": [
    "# add a column to the data which contains scaled number of genes that are expressed in each cell\n",
    "cdr2 <- colSums(assay(sca)>0)\n",
    "colData(sca)$ngeneson <- scale(cdr2)\n",
    "# store the columns that we are interested in as factors\n",
    "label <- factor(colData(sca)$sample)\n",
    "# set the reference level\n",
    "label <- relevel(label,\"pnc\")\n",
    "colData(sca)$label <- label\n",
    "# define and fit the model\n",
    "zlmCond <- zlm(formula = ~ngeneson + label, \n",
    "               sca=sca, \n",
    "               method='bayesglm', \n",
    "               ebayes=T, \n",
    "               strictConvergence=F,\n",
    "              )"
   ]
  },
  {
   "cell_type": "code",
   "execution_count": null,
   "id": "43085248-15c3-4605-afaf-a83a65f3c746",
   "metadata": {
    "scrolled": true
   },
   "outputs": [],
   "source": [
    "# perform likelihood-ratio test for the condition that we are interested in    \n",
    "summaryCond <- summary(zlmCond, doLRT='labeltumor')"
   ]
  },
  {
   "cell_type": "code",
   "execution_count": null,
   "id": "e899e119-77ac-4c1c-89e1-a875c8733639",
   "metadata": {
    "scrolled": true
   },
   "outputs": [],
   "source": [
    "# get the table with log-fold changes and p-values\n",
    "summaryDt <- summaryCond$datatable\n",
    "result <- merge(summaryDt[contrast=='labeltumor' & component=='H',.(primerid, `Pr(>Chisq)`)], # p-values\n",
    "                 summaryDt[contrast=='labeltumor' & component=='logFC', .(primerid, coef)],\n",
    "                 by='primerid') # logFC coefficients\n",
    "# MAST uses natural logarithm so we convert the coefficients to log2 base to be comparable to edgeR\n",
    "result[,coef:=result[,coef]/log(2)]\n",
    "# do multiple testing correction\n",
    "result[,FDR:=p.adjust(`Pr(>Chisq)`, 'fdr')]\n",
    "result = result[result$FDR<0.01,, drop=F]\n",
    "\n",
    "result <- stats::na.omit(as.data.frame(result))"
   ]
  },
  {
   "cell_type": "code",
   "execution_count": null,
   "id": "495f99e8-395a-44f4-a61f-782e1a66eef4",
   "metadata": {
    "scrolled": true
   },
   "outputs": [],
   "source": [
    "library(data.table)\n",
    "colnames(result) <- c('gene','p','log2FC','FDR')\n",
    "setorder(result,-log2FC)\n",
    "fwrite(result,'out/deg/tumor_pnc_mast_deg.tsv', sep='\\t')"
   ]
  },
  {
   "cell_type": "code",
   "execution_count": null,
   "id": "d70d5016-3c6a-4414-94c2-ba94bd79d2eb",
   "metadata": {},
   "outputs": [],
   "source": []
  }
 ],
 "metadata": {
  "kernelspec": {
   "display_name": "sc-de-mast",
   "language": "R",
   "name": "sc-de-mast"
  },
  "language_info": {
   "codemirror_mode": "r",
   "file_extension": ".r",
   "mimetype": "text/x-r-source",
   "name": "R",
   "pygments_lexer": "r",
   "version": "4.3.3"
  }
 },
 "nbformat": 4,
 "nbformat_minor": 5
}
