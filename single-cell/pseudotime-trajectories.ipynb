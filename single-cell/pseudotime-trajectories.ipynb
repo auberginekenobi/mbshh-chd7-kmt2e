{
 "cells": [
  {
   "cell_type": "markdown",
   "id": "70f5aab5-7205-4544-b42a-3def2712f827",
   "metadata": {},
   "source": [
    "# pseudotime\n",
    "Comparison of available trajectory methods: https://biocellgen-public.svi.edu.au/mig_2019_scrnaseq-workshop/trajectory-inference.html"
   ]
  },
  {
   "cell_type": "code",
   "execution_count": null,
   "id": "8e547dbf-7b69-4fa5-9ea0-bdd97e6d8b6b",
   "metadata": {},
   "outputs": [],
   "source": [
    "Sys.setenv(LANGUAGE = \"en\") # set language to \"ja\" if you prefer\n",
    "\n",
    "library(Seurat)\n",
    "library(tidyverse)\n",
    "library(harmony)\n",
    "library(ggplot2)\n",
    "library(future)\n",
    "library(mclust)\n",
    "library(patchwork)\n",
    "library(ggalluvial)\n",
    "library(ggrepel)\n",
    "library(RColorBrewer)\n",
    "library(slingshot)\n",
    "library(igraph)\n",
    "library(ggbeeswarm)\n",
    "\n",
    "set.seed(47);"
   ]
  },
  {
   "cell_type": "code",
   "execution_count": null,
   "id": "74a4b73e-04de-4ecb-b3de-39e3cad8049c",
   "metadata": {},
   "outputs": [],
   "source": [
    "sc_list <- readRDS(\"out/seuratobject_list.rds\")"
   ]
  },
  {
   "cell_type": "code",
   "execution_count": null,
   "id": "76215c96-3899-40ce-bd0d-8e33e8024462",
   "metadata": {
    "scrolled": true
   },
   "outputs": [],
   "source": [
    "# check for cells which change cluster identity\n",
    "test <- sc_list[[2]]\n",
    "# but regressing out mitochondrial fraction seems to reduce intra-cluster variation"
   ]
  },
  {
   "cell_type": "code",
   "execution_count": null,
   "id": "0a172df8-e7fc-4038-83a6-77387a03c7da",
   "metadata": {},
   "outputs": [],
   "source": [
    "get_umap_centroids <- function(seuratobj){\n",
    "    # Get UMAP embeddings\n",
    "    umap_embeddings <- Embeddings(seuratobj, reduction = 'm_umap')\n",
    "    \n",
    "    # Step 2: Get cluster identities\n",
    "    clusters <- Idents(seuratobj)\n",
    "    \n",
    "    # Step 3: Combine embeddings and cluster identities into a data frame\n",
    "    umap_data <- as.data.frame(umap_embeddings)\n",
    "    umap_data$cluster <- clusters\n",
    "    \n",
    "    # Step 4: Calculate centroids for each cluster\n",
    "    centroids <- umap_data %>%\n",
    "      group_by(cluster) %>%\n",
    "      summarize(across(everything(), mean))\n",
    "    \n",
    "    # View centroids\n",
    "    return(centroids)\n",
    "}\n",
    "\n",
    "plot_slingshot_mst <- function(so,subset_so,psobj){\n",
    "    # helper function plots minimum spanning tree from slingshot analysis onto the umap DimPlot.\n",
    "    # subset_so: subsetted seurat object only containing clusters of interest\n",
    "    # psobj: PseudotimeOrdering from slingshot.\n",
    "    centroids <- get_umap_centroids(subset_so)\n",
    "    mst <- slingMST(psobj) %>% (igraph::as_edgelist) %>% as.data.frame\n",
    "    edges <- mst %>%\n",
    "        left_join(centroids, by = c(\"V1\" = \"cluster\")) %>%\n",
    "        rename(\"mumap_1\"=\"x1\",\"mumap_2\"=\"y1\") %>%\n",
    "        left_join(centroids, by = c(\"V2\" = \"cluster\")) %>%\n",
    "        rename(\"mumap_1\"=\"x2\",\"mumap_2\"=\"y2\")\n",
    "    plt <- DimPlot(so, reduction=\"m_umap\", label=TRUE, label.size=5, repel=TRUE) + \n",
    "        geom_point(aes(y=mumap_2,x=mumap_1),data=centroids) + \n",
    "        geom_segment(data=edges, aes(x=x1, y=y1, xend=x2, yend=y2)) + \n",
    "        ggtitle(\"Pseudotime trajectory in UMAP space\") + \n",
    "        theme(plot.title = element_text(hjust = 0.5))\n",
    "    return(plt)\n",
    "}\n",
    "\n",
    "plot_pseudotime_ordering <- function(so,cell_ids=\"mito_regressed_cluster\",pseudotime=\"avg_pseudotime\"){\n",
    "    # so: seuratobject. Assumes cell_ids and pseudotime columns present in the metadata\n",
    "    plot <- ggplot(so[[]] %>% na.omit, aes(x = !!sym(pseudotime), y = !!sym(cell_ids), \n",
    "                              colour = !!sym(cell_ids))) +\n",
    "        geom_quasirandom(groupOnX = FALSE) + \n",
    "        theme_classic() +\n",
    "        xlab(\"Slingshot pseudotime\") + ylab(\"cell type\") +\n",
    "        ggtitle(\"Cells ordered by Slingshot pseudotime\") + \n",
    "        theme(plot.title = element_text(hjust = 0.5))\n",
    "    return(plot)\n",
    "}\n",
    "\n",
    "pseudotime_analysis <- function(seuratobj,clusters_to_drop=NULL,start.clus=NULL,end.clus=NULL){\n",
    "    # clusters_to_drop: clusters to remove from pseudotime analysis, presumably because they come from an independent lineage. Look for outlier clusters in the DimPlot.\n",
    "    Idents(seuratobj) <- 'mito_regressed_cluster' # use these cluster identities\n",
    "\n",
    "    subset_so <- seuratobj %>% subset(idents=clusters_to_drop, invert=TRUE) \n",
    "    # get cell IDs for clusters of interest\n",
    "    clustering <- Idents(subset_so)\n",
    "    # get first 30 PCs for all cells in clusters of interest\n",
    "    data <- Embeddings(subset_so,reduction='m_pca')[names(clustering), 1:30]\n",
    "    # run slingshot\n",
    "    psobj <- slingshot(data = data, clusterLabels = clustering,start.clus=start.clus,end.clus=end.clus)\n",
    "\n",
    "    plots = list()\n",
    "    \n",
    "    # Plot minimum spanning tree\n",
    "    plots[[\"mst\"]] <- plot_slingshot_mst(seuratobj,subset_so,psobj)\n",
    "\n",
    "    # Add pseudotime to metadata\n",
    "    seuratobj$avg_pseudotime <- psobj %>% slingAvgPseudotime\n",
    "    \n",
    "    # Plot cells along pseudotime trajectory\n",
    "    plots[[\"cell_pseudotime\"]] <- plot_pseudotime_ordering(seuratobj)\n",
    "\n",
    "    # Plot Neurod1 expression against pseudotime\n",
    "    DefaultAssay(seuratobj) <- \"m_SCT\"\n",
    "    plots[[\"Neurod1_pseudotime\"]] <- FeatureScatter(seuratobj,feature1='avg_pseudotime',feature2='Neurod1',pt.size=0.5,slot='scale.data') + \n",
    "        geom_smooth(na.rm=TRUE,method='gam',formula = y ~ s(x, bs = \"gp\")) + \n",
    "        ggtitle(\"Neurod1 expression over pseudotime\") +\n",
    "        theme(plot.title = element_text(hjust = 0.5))\n",
    "\n",
    "    options(repr.plot.width = 18, repr.plot.height = 6)\n",
    "    combined_plot <- wrap_plots(plots) + plot_layout(ncol = 3)  # Adjust ncol as needed\n",
    "    print(combined_plot)\n",
    "    \n",
    "    return(list(seuratobject=seuratobj,pseudotime=psobj,plots=plots))\n",
    "}"
   ]
  },
  {
   "cell_type": "code",
   "execution_count": null,
   "id": "875028a3-bd69-47ed-be39-7bbf137664c1",
   "metadata": {},
   "outputs": [],
   "source": [
    "gnp_result <- pseudotime_analysis(sc_list[[1]],clusters_to_drop=c(7,8,9,11,12,13,14,15),end.clus=5)"
   ]
  },
  {
   "cell_type": "code",
   "execution_count": null,
   "id": "6f8178b2-53f9-40d0-bd95-d656729e2ca0",
   "metadata": {},
   "outputs": [],
   "source": [
    "pnc_result <- pseudotime_analysis(sc_list[[2]],clusters_to_drop=c(7,9),start.clus=5,end.clus=2)"
   ]
  },
  {
   "cell_type": "code",
   "execution_count": null,
   "id": "ad4c17c7-1766-48ba-b52c-b741af370c2d",
   "metadata": {},
   "outputs": [],
   "source": [
    "tumor_result <- pseudotime_analysis(sc_list[[3]],clusters_to_drop=c(9,10),start.clus=0,end.clus=4)"
   ]
  },
  {
   "cell_type": "code",
   "execution_count": null,
   "id": "b9718a2f-eda6-4591-8442-2ff3824aa129",
   "metadata": {
    "scrolled": true
   },
   "outputs": [],
   "source": [
    "tumor_result[[1]][[]]"
   ]
  },
  {
   "cell_type": "code",
   "execution_count": null,
   "id": "f15a5432-de5a-4d60-b568-157c16acabcd",
   "metadata": {},
   "outputs": [],
   "source": [
    "pseudotime_heatmap <- function(seuratobj,features){\n",
    "    DefaultAssay(seuratobj) <- \"m_SCT\"\n",
    "    # order cells by pseudotime\n",
    "    x<- FetchData(seuratobj, vars = \"avg_pseudotime\") %>% as.data.frame\n",
    "    order.index <- order(x$avg_pseudotime, decreasing = FALSE)\n",
    "    cell.order <- rownames(x)[order.index]\n",
    "    \n",
    "    # hack hack add pseudotime to heatmap by making a new assay with avg-pseudotime as a gene\n",
    "    seuratobj[['heatmap']] <- CreateAssayObject(data = t(x = FetchData(object = seuratobj, layer = 'scale.data', vars = c(features,'avg_pseudotime'))))\n",
    "    seuratobj[[\"heatmap\"]]$data['avg-pseudotime', ] <- seuratobj[[\"heatmap\"]]$data['avg-pseudotime', ]/20\n",
    "    \n",
    "    # plot\n",
    "    DoHeatmap(object = seuratobj, features = c(features,'avg-pseudotime'), assay = 'heatmap', slot = 'data',group.by=\"orig.ident\", cells=cell.order)\n",
    "}\n",
    "\n",
    "features=c(\"Gli1\",\"Gli2\",\"Mki67\",\"Ctnnb1\",\"Birc5\",\"Ntrk3\",\n",
    "           \"Trp53\",\"Pten\",\"Tll1\",\"Tex14\",\n",
    "           \"Rbfox3\",\"Cntn2\",\"Neurod1\",\"Cacna1e\",\"Kcnk1\",\"Grin2b\",\"Cntnap4\",\"Samd12\",\"Zmat4\",\n",
    "           \"Prom1\",\"Myc\",\"Scrt2\")\n",
    "\n",
    "options(warn=-1)\n",
    "pseudotime_heatmap(gnp_result[[1]],features)\n",
    "pseudotime_heatmap(pnc_result[[1]],features)\n",
    "pseudotime_heatmap(tumor_result[[1]],features)\n",
    "options(warn=0)"
   ]
  },
  {
   "cell_type": "code",
   "execution_count": null,
   "id": "7564cec9-b29f-4081-98d9-38384031250b",
   "metadata": {},
   "outputs": [],
   "source": [
    "library(RColorBrewer)\n",
    "\n",
    "pseudotime_curves <- function(seuratobj,features){\n",
    "    num_features <- length(features)\n",
    "    # Generate a color palette (up to 12 colors with 'Set3')\n",
    "    colors <- if (num_features > 12) {\n",
    "      colorRampPalette(brewer.pal(12, \"Set3\"))(num_features)\n",
    "    } else {\n",
    "      brewer.pal(num_features, \"Set3\")\n",
    "    }\n",
    "\n",
    "\n",
    "    # Create a mapping of colours to feature names\n",
    "    colour_to_feature <- data.frame(colour = colors, \n",
    "                                 feature = features)\n",
    "    \n",
    "    DefaultAssay(seuratobj) <- \"m_SCT\"\n",
    "    data <- FetchData(object = seuratobj, vars = c(\"avg_pseudotime\", features), layer = \"data\") %>%\n",
    "        pivot_longer(cols = features, names_to = 'gene', values_to = 'expression')\n",
    "    \n",
    "    options(repr.plot.width = 18, repr.plot.height = 6)\n",
    "    p <- ggplot(data, aes(x=avg_pseudotime,y=expression, color=gene)) +\n",
    "        geom_smooth(se=FALSE,na.rm=TRUE,method='gam',formula = y ~ s(x, bs = \"gp\")) +\n",
    "        #scale_color_manual(values = setNames(colour_to_feature$colour, colour_to_feature$feature)) +  # Set colors\n",
    "        scale_color_manual(values = setNames(colors, features)) +  # Set colors directly\n",
    "        labs(color = \"Feature\") + \n",
    "        theme_classic()\n",
    "\n",
    "    # Build the ggplot object to extract smoothed data\n",
    "    p_built <- ggplot_build(p)\n",
    "    \n",
    "    # Extract the smoothed data for each feature\n",
    "    endpoints <- p_built$data[[1]] %>%\n",
    "        mutate(xc=x,yc=y) %>% # rename because variable namespace too crowded for which.max\n",
    "        group_by(colour) %>%\n",
    "        reframe(\n",
    "            x = max(xc),\n",
    "            y = yc[base::which.max(xc)],\n",
    "            #feature = colour_to_feature$feature[match(colour, setNames(colour_to_feature$colour, colour_to_feature$feature))],\n",
    "            feature = features[match(colour, colors)],  # Match directly using colors\n",
    "        ) %>% unique\n",
    "    # Add labels for each feature at the endpoints of the curves\n",
    "    p <- p + geom_label_repel(data = endpoints, aes(x = x, y = y, label = feature), \n",
    "                       #vjust = -0.5, hjust = 1.5, \n",
    "                       size = 4, color = \"black\")\n",
    "\n",
    "    startpoints <- p_built$data[[1]] %>%\n",
    "        mutate(xc=x,yc=y) %>% # rename because variable namespace too crowded for which.max\n",
    "        group_by(colour) %>%\n",
    "        reframe(\n",
    "            x = min(xc),\n",
    "            y = yc[base::which.min(xc)],\n",
    "            #feature = colour_to_feature$feature[match(colour, setNames(colour_to_feature$colour, colour_to_feature$feature))],\n",
    "            feature = features[match(colour, colors)],  # Match directly using colors\n",
    "        ) %>% unique\n",
    "    # Add labels for each feature at the endpoints of the curves\n",
    "    p <- p + geom_label_repel(data = startpoints, aes(x = x, y = y, label = feature), \n",
    "                       #vjust = -0.5, hjust = 1.5, \n",
    "                       size = 4, color = \"black\")\n",
    "    print(p)\n",
    "    return(list(endpoints=endpoints,p_built=p_built,color_to_feature=colour_to_feature))\n",
    "}\n",
    "\n",
    "subfeatures = c(\"Gli1\",\"Gli2\",\"Mki67\",\"Neurod1\",\"Birc5\",\"Ntrk3\",\n",
    "           \"Rbfox3\",\"Cntn2\",\"Ctnnb1\",\"Cacna1e\",\"Grin2b\",\"Samd12\")\n",
    "\n",
    "options(warn=-1)\n",
    "out = pseudotime_curves(gnp_result[[1]],subfeatures)\n",
    "out = pseudotime_curves(pnc_result[[1]],subfeatures)\n",
    "out = pseudotime_curves(tumor_result[[1]],subfeatures)\n",
    "options(warn=0)"
   ]
  },
  {
   "cell_type": "code",
   "execution_count": null,
   "id": "566db017-b4fd-4758-a769-b9e96cdbcc28",
   "metadata": {},
   "outputs": [],
   "source": [
    "options(warn=0)"
   ]
  },
  {
   "cell_type": "code",
   "execution_count": null,
   "id": "c0ccc8ec-64f8-406d-9a64-5c5a813dd4ef",
   "metadata": {},
   "outputs": [],
   "source": [
    "saveRDS(psobj, \"out/slingshot_pseudotimeordering.rds\")\n"
   ]
  },
  {
   "cell_type": "markdown",
   "id": "e7d8d163-83ce-49ad-9d1a-4efb2fd33de8",
   "metadata": {},
   "source": [
    "# TODO\n",
    "- Label cells by cell type annotation\n",
    "- Set start and end points\n",
    "- Plot gene expression of Neurod1 etc. "
   ]
  },
  {
   "cell_type": "markdown",
   "id": "c2986d65-66b0-4151-ad87-eb7cb1c899b7",
   "metadata": {},
   "source": [
    "# Pseudotime illustration"
   ]
  },
  {
   "cell_type": "code",
   "execution_count": null,
   "id": "cc1b5456-9a98-4625-b2af-bc032f66d275",
   "metadata": {
    "scrolled": true
   },
   "outputs": [],
   "source": [
    "?ggsave"
   ]
  },
  {
   "cell_type": "code",
   "execution_count": null,
   "id": "aec86875-81fb-49a8-8b0e-2cfb958ee0c4",
   "metadata": {},
   "outputs": [],
   "source": [
    "plots = list()\n",
    "\n",
    "seuratobj = sc_list[[2]]\n",
    "Idents(object = seuratobj) <- \"annotation\"\n",
    "\n",
    "tmp <- FeaturePlot(seuratobj, slot='data', features = c(\"Mki67\",\"Rbfox3\"), blend = TRUE, combine=FALSE)\n",
    "plots[[1]] <- tmp[[3]] + scale_color_manual(labels=c('Ki67-/Neun-','Ki67+/Neun-','Ki67-/Neun+','Ki67+/Neun+'),\n",
    "                                           values=c(\"grey\",\"red\",\"green\",\"yellow\")) + \n",
    "    ggtitle(\"Ki67/NeuN expression\")\n",
    "\n",
    "plots[[2]] = DimPlot(seuratobj, reduction=\"m_umap\", label=TRUE, repel=TRUE, label.size=5) + \n",
    "    ggtitle(\"Cell annotations\") + \n",
    "    theme(plot.title = element_text(hjust = 0.5))\n",
    "\n",
    "seuratobj = pnc_result[[1]]\n",
    "subset_so <- seuratobj %>% subset(idents=c(7,9), invert=TRUE)\n",
    "psobj = pnc_result[[2]]\n",
    "Idents(object = seuratobj) <- \"mito_regressed_cluster\"\n",
    "plots[[3]] = plot_slingshot_mst(seuratobj,subset_so,psobj) + theme(legend.position = \"none\") +\n",
    "    ggtitle(\"Pseudotime trajectory\")\n",
    "\n",
    "options(repr.plot.width = 20, repr.plot.height = 8)\n",
    "combined_plot <- wrap_plots(plots) + plot_layout(ncol = length(plots)) + \n",
    "    plot_annotation(title=\"Mouse Ptch1- preneoplastic cells from\\nShiraishi et al. 2023\",\n",
    "                   theme = theme(plot.title = element_text(hjust = 0.5, size=16, face='bold')))\n",
    "print(combined_plot)\n",
    "combined_plot <- combined_plot + plot_layout(ncol = 1)\n",
    "ggsave(\"out/pseudotime_example.png\",width=6,height=12)"
   ]
  },
  {
   "cell_type": "markdown",
   "id": "f51fc801-c03f-4318-bae0-90c5823cc167",
   "metadata": {},
   "source": [
    "# Atoh1 in pnc"
   ]
  },
  {
   "cell_type": "code",
   "execution_count": null,
   "id": "45f51ff5-68f0-4056-849e-79c1668ad927",
   "metadata": {},
   "outputs": [],
   "source": [
    "sample = sc_list[[2]]\n",
    "features = c('Atoh1','Neurod1')\n",
    "FeaturePlot(sample, slot='data', features=features,ncol=2, label=TRUE)"
   ]
  },
  {
   "cell_type": "markdown",
   "id": "064110cc-9bd2-4515-b7e5-74c16d22991d",
   "metadata": {},
   "source": [
    "# Dead code"
   ]
  },
  {
   "cell_type": "code",
   "execution_count": null,
   "id": "2e953e57-7f5a-48d0-8bd2-73ef48b34999",
   "metadata": {},
   "outputs": [],
   "source": [
    "# Signac hangs on CreateChromatinAssay during \"computing hash\" step.\n",
    "# possible causes:\n",
    "#  Apple silicon architecture?\n",
    "#  Just requires a ton of resources?\n",
    "#  May need to load multiome data on shirokane, or use a different tool.\n",
    "\n",
    "library(Signac)\n",
    "library(BSgenome.Mmusculus.UCSC.mm10)\n",
    "library(EnsDb.Mmusculus.v79)\n",
    "\n",
    "ANNOTATION <- GetGRangesFromEnsDb(ensdb = EnsDb.Mmusculus.v79)\n",
    "seqlevelsStyle(ANNOTATION) <- 'UCSC'\n",
    "genome(ANNOTATION) <- \"mm10\"\n",
    "\n",
    "print('loading ATAC data...')\n",
    "atac_counts <- data$Peaks\n",
    "grange.counts <- StringToGRanges(rownames(atac_counts), sep = c(\":\", \"-\"))\n",
    "grange.use <- seqnames(grange.counts) %in% standardChromosomes(grange.counts)\n",
    "atac_counts <- atac_counts[as.vector(grange.use), ]\n",
    "obj[[\"ATAC\"]] <- CreateChromatinAssay(\n",
    "    counts = atac_counts,\n",
    "    sep = c(\":\", \"-\"),\n",
    "    genome = 'mm10',\n",
    "    fragments = DATA_LOCATIONS[[experiment]][2],\n",
    "    min.cells = 10,\n",
    "    min.features = 100,\n",
    "    annotation = ANNOTATION\n",
    ")"
   ]
  },
  {
   "cell_type": "code",
   "execution_count": null,
   "id": "f74fc5f7-ce26-4d1f-95aa-89f43f5138b4",
   "metadata": {},
   "outputs": [],
   "source": []
  }
 ],
 "metadata": {
  "kernelspec": {
   "display_name": "sc-multiome",
   "language": "R",
   "name": "sc-multiome"
  },
  "language_info": {
   "codemirror_mode": "r",
   "file_extension": ".r",
   "mimetype": "text/x-r-source",
   "name": "R",
   "pygments_lexer": "r",
   "version": "4.3.3"
  }
 },
 "nbformat": 4,
 "nbformat_minor": 5
}
