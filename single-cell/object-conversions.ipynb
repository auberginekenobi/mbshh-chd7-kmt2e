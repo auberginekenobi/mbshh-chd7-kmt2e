{
 "cells": [
  {
   "cell_type": "markdown",
   "id": "274f8065-c808-4df9-8cae-6989e5f528f4",
   "metadata": {},
   "source": [
    "# object conversions\n",
    "Conversions between SeuratObject, SingleCellExperiment, scanpy.  \n",
    "Why is there not a standard set of tools for this...  \n",
    "\n",
    "Options (in order of google search popularity)\n",
    "- Native Seurat [link](https://satijalab.org/seurat/archive/v2.4/conversion_vignette). **deprecated** since v2.\n",
    "- SeuratDisk. **deprecated**.\n",
    "- sceasy. **deprecated**.\n",
    "- [scCustomize](https://samuel-marsh.github.io/scCustomize/index.html) as.anndata. Install: CRAN. A few dependencies besides. Might try this one first. [tutorial](https://samuel-marsh.github.io/scCustomize/articles/Object_Conversion.html#convert-seurat-or-liger-objects-to-anndata-objects)\n",
    "- [convert2anndata](https://settylab.github.io/convert2anndata/). Install: github. Dependencies: SingleCellExperiment, SummarizedExperiment, Seurat. Limited to R -> AnnData?\n",
    "- [SCP](https://github.com/zhanghao-njmu/SCP) srt_to_adata. Install: github. Does a whole lot of other stuff besides.\n",
    "\n",
    "## TODO\n",
    "Save scale.data into obsp"
   ]
  },
  {
   "cell_type": "markdown",
   "id": "d7433548-3af4-436f-8e74-f34ca4afbe36",
   "metadata": {},
   "source": [
    "## scCustomize\n",
    "Seurat -> anndata"
   ]
  },
  {
   "cell_type": "code",
   "execution_count": null,
   "id": "079a9d48-7eac-437d-a2dd-e316784cd13d",
   "metadata": {},
   "outputs": [],
   "source": [
    "# install\n",
    "# See https://samuel-marsh.github.io/scCustomize/articles/Installation.html\n",
    "# Note that as.anndata is bugged in v2.8.2. Need to install >= 3.0.0\n",
    "# devtools::install_github(\"samuel-marsh/scCustomize\", ref = \"release/3.0.0\")"
   ]
  },
  {
   "cell_type": "code",
   "execution_count": null,
   "id": "cdb762e5-49d7-4d0c-8f98-3d8830291c23",
   "metadata": {
    "scrolled": true
   },
   "outputs": [],
   "source": [
    "Sys.setenv(LANGUAGE = \"en\") # set language to \"ja\" if you prefer\n",
    "\n",
    "library(scCustomize)\n",
    "library(Seurat)\n",
    "library(dplyr)\n",
    "library(reticulate)\n",
    "reticulate::use_condaenv(\"sc-multiome\")\n",
    "reticulate::py_module_available(module = 'anndata')\n",
    "\n",
    "sessionInfo()"
   ]
  },
  {
   "cell_type": "markdown",
   "id": "a77d0bc8-1ca8-46dc-807d-fd121cf3e885",
   "metadata": {},
   "source": [
    "Notes on seuratobjects:\n",
    "\n",
    "Assay `RNA` layer `counts` contains raw counts.  \n",
    "Assay `m_SCT` layer `counts` contains corrected counts.  \n",
    "Assay `m_SCT` layer `data` contains log1p transformed counts.  \n",
    "Assay `m_SCT` layer `scale.data` contains Pearson residuals."
   ]
  },
  {
   "cell_type": "code",
   "execution_count": null,
   "id": "dff543b1-8ea2-4117-af85-d7fe46ee8a23",
   "metadata": {},
   "outputs": [],
   "source": [
    "# read objects\n",
    "sc_list <- readRDS(\"out/seuratobject_list.rds\")"
   ]
  },
  {
   "cell_type": "code",
   "execution_count": null,
   "id": "e0e2f6ad-1c87-4cf4-943e-b0b2c806fcfb",
   "metadata": {
    "scrolled": true
   },
   "outputs": [],
   "source": [
    "# as.anndata doesn't work on the merged dataset\n",
    "#so <- sc_list[[1]] %>% merge(unlist(sc_list[2:3]),merge.data = TRUE)\n",
    "#so\n",
    "#so[[]] %>% head\n",
    "\n",
    "#scCustomize::as.anndata(x = so, file_path = \"out\", file_name = \"shiraishi_anndata.h5ad\", assay = \"m_SCT\")"
   ]
  },
  {
   "cell_type": "code",
   "execution_count": null,
   "id": "b02e0cf6-25fb-46b9-9f80-4cf6fb9961ed",
   "metadata": {},
   "outputs": [],
   "source": [
    "scCustomize::as.anndata(x = sc_list[[1]], file_path = \"out\", file_name = \"gnp_anndata.h5ad\", assay = 'm_SCT')"
   ]
  },
  {
   "cell_type": "code",
   "execution_count": null,
   "id": "f47972d4-efad-4fd0-a258-d1feff7eae4b",
   "metadata": {},
   "outputs": [],
   "source": [
    "scCustomize::as.anndata(x = sc_list[[2]], file_path = \"out\", file_name = \"pnc_anndata.h5ad\", assay = 'm_SCT')"
   ]
  },
  {
   "cell_type": "code",
   "execution_count": null,
   "id": "4df9aa5c-6fca-4a71-92e3-75a42249fca4",
   "metadata": {},
   "outputs": [],
   "source": [
    "scCustomize::as.anndata(x = sc_list[[3]], file_path = \"out\", file_name = \"tumor_anndata.h5ad\", assay = 'm_SCT')"
   ]
  },
  {
   "cell_type": "markdown",
   "id": "26de4a53-23a0-4c46-80fe-732f45aa704e",
   "metadata": {},
   "source": [
    "# zellkonverter\n",
    "anndata -> SingleCellExperiment"
   ]
  },
  {
   "cell_type": "code",
   "execution_count": null,
   "id": "c1578071-c50c-4349-9bbb-710379431dfe",
   "metadata": {},
   "outputs": [],
   "source": [
    "library(zellkonverter)"
   ]
  },
  {
   "cell_type": "code",
   "execution_count": null,
   "id": "05257493-5cc7-452c-adc4-1beff0965482",
   "metadata": {},
   "outputs": [],
   "source": []
  }
 ],
 "metadata": {
  "kernelspec": {
   "display_name": "sc-multiome",
   "language": "R",
   "name": "sc-multiome"
  },
  "language_info": {
   "codemirror_mode": "r",
   "file_extension": ".r",
   "mimetype": "text/x-r-source",
   "name": "R",
   "pygments_lexer": "r",
   "version": "4.3.3"
  }
 },
 "nbformat": 4,
 "nbformat_minor": 5
}
