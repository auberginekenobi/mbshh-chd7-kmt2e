{
 "cells": [
  {
   "cell_type": "markdown",
   "id": "ea0b6e3a-ba14-4258-9586-18ea90973890",
   "metadata": {},
   "source": [
    "# RPCA\n",
    "Preprocessing done in notebook `preprocessing.ipynb`. \n",
    "tutorial at https://satijalab.org/seurat/articles/integration_rpca.html  \n",
    "\n",
    "## Results\n",
    "Output figure in `figures/rpca_integration.png`.  \n",
    "I think a few things are apparent from this plot:\n",
    "- **(a-b)** Integration at the cell level seems to have worked well. In subplots a-b, we see that cells cluster by cell type rather than sample origin.\n",
    "- **(d-g)** 2 clusters of proliferating cells express *Mki67*. *Neurod1* expression is ubiquitous, but somewhat stronger in the differentiated cells, such that we see weak anticorrelation with *Mki67*.\n",
    "- There seems to be a bug in `VlnPlot` when `add.noise==TRUE` which deletes area of plot when it contains lots of zeroes.\n",
    "- **(h-k)** Comparison of *Neurod1* expresison level seems to be heavily influenced by batch. If we were to do a statistical test of *Neurod1* expression in these data, we would probably see that tumor > pnc > gnp. However, there are several problems with such an approach:\n",
    "  - Batch correction adds a small error *e* to all tumor *Neurod1* expression levels, and subtracts a small error *f* from gnp. Thus, all cells with zero *Neurod1* counts in tumor will have greater 'expression' than cells with zero counts in pnc. Thus, I think the result may be more reflective of sequencing depth or sample quality than biological *Neurod1* variation.\n",
    "  - M-W is invalid with lots of ties, which is true for pnc. Would need to use K-S or something.\n",
    "  - RPCA seems to have mapped all cells into pnc space. This means that transformation was only performed on gnp and tumor cells. Ironically, this may introduce a batch effect like point 1 above where an error-prone transformation was performed in one sample but not the other.\n",
    "\n",
    "## Conclusion\n",
    "RPCA is not appropriate to compare expression of an individual gene across samples."
   ]
  },
  {
   "cell_type": "code",
   "execution_count": null,
   "id": "e5009b02-a37a-41c2-85d1-eb4bdd8988f2",
   "metadata": {
    "scrolled": true
   },
   "outputs": [],
   "source": [
    "Sys.setenv(LANGUAGE = \"en\") # set language to \"ja\" if you prefer\n",
    "\n",
    "library(Seurat)\n",
    "library(tidyverse)\n",
    "library(patchwork)\n",
    "#library(future)\n",
    "\n",
    "set.seed(47);"
   ]
  },
  {
   "cell_type": "code",
   "execution_count": null,
   "id": "75265228-6d92-4cbd-b1ee-ef053f85e30e",
   "metadata": {
    "editable": true,
    "slideshow": {
     "slide_type": ""
    },
    "tags": []
   },
   "outputs": [],
   "source": [
    "# Set parallel execution settings\n",
    "#future::plan(\"multisession\", workers = as.integer(availableCores()/2), gc=TRUE)\n",
    "#options(future.globals.maxSize = 1024*32*1024^2) # Set max variable size to 8Gb\n",
    "#options(future.globals.onReference = \"error\")"
   ]
  },
  {
   "cell_type": "code",
   "execution_count": null,
   "id": "91ebfcf9-7e06-4e7a-8643-2de9ecd281c7",
   "metadata": {},
   "outputs": [],
   "source": [
    "sc_list <- readRDS(\"out/seuratobject_list.rds\")"
   ]
  },
  {
   "cell_type": "code",
   "execution_count": null,
   "id": "ac5ec1be-bcd1-4b0d-9d25-651ef5836c4b",
   "metadata": {},
   "outputs": [],
   "source": [
    "# RPCA \n",
    "# notes:\n",
    "# Seurat v5 has a one-step IntegrateLayers function, but it can't output transformed features, only an embedding. \n",
    "# Therefore we use the old workflow from v4.\n",
    "# See https://satijalab.org/seurat/articles/seurat5_integration, https://github.com/satijalab/seurat/issues/8653\n",
    "# futures multisession processing fails on IntegrateData.\n",
    "\n",
    "# select features that are repeatedly variable across datasets for integration run PCA on each\n",
    "# dataset using these features\n",
    "features <- SelectIntegrationFeatures(object.list=sc_list, assay=rep('m_SCT',3))\n",
    "sc_list <- lapply(X = sc_list, FUN = function(x) {\n",
    "    x <- ScaleData(x, features = features, verbose = FALSE)\n",
    "    x <- RunPCA(x, features = features, verbose = FALSE)\n",
    "})\n",
    "sc_list <- PrepSCTIntegration(sc_list,assay='m_SCT',anchor.features=features)\n",
    "anchors <- FindIntegrationAnchors(object.list=sc_list, anchor.features=features, scale=FALSE, reduction = \"rpca\", normalization.method='SCT')"
   ]
  },
  {
   "cell_type": "code",
   "execution_count": null,
   "id": "42063f7f-078a-47f0-8221-a4e97798167f",
   "metadata": {},
   "outputs": [],
   "source": [
    "Sys.setenv(R_MAX_VSIZE = 32e9)"
   ]
  },
  {
   "cell_type": "code",
   "execution_count": null,
   "id": "ca805194-2a47-40e4-b6e8-9456e208cd8b",
   "metadata": {},
   "outputs": [],
   "source": [
    "# Trying to integrate all genes runs into OOM errors\n",
    "# shared_features <- Reduce(intersect, lapply(sc_list, Features))\n",
    "'Neurod1' %in% features # need gene of interest to be in features\n",
    "combined_data <- IntegrateData(anchorset = anchors, features.to.integrate = features, normalization.method = 'SCT')"
   ]
  },
  {
   "cell_type": "code",
   "execution_count": null,
   "id": "758b2e3b-4608-4c50-9ae7-76f4f7c65916",
   "metadata": {
    "scrolled": true
   },
   "outputs": [],
   "source": [
    "combined_data[[]] %>% head"
   ]
  },
  {
   "cell_type": "code",
   "execution_count": null,
   "id": "04b45c48-6fa1-4cdb-8ea7-1a71d2eabba9",
   "metadata": {
    "scrolled": true
   },
   "outputs": [],
   "source": [
    "# specify that we will perform downstream analysis on the corrected data note that the\n",
    "# original unmodified data still resides in the 'RNA' assay\n",
    "DefaultAssay(combined_data) <- \"integrated\"\n",
    "\n",
    "# Run the standard workflow for visualization and clustering\n",
    "combined_data <- combined_data %>%\n",
    "    ScaleData(verbose = FALSE) %>%\n",
    "    RunPCA(npcs = 30, verbose = FALSE) %>%\n",
    "    RunUMAP(reduction = \"pca\", dims = 1:30) %>%\n",
    "    FindNeighbors(reduction = \"pca\", dims = 1:30) %>%\n",
    "    FindClusters(resolution = 0.5)"
   ]
  },
  {
   "cell_type": "code",
   "execution_count": null,
   "id": "315e695b-fd2b-46b7-bc7f-fdd2c2428850",
   "metadata": {},
   "outputs": [],
   "source": [
    "# Visualization\n",
    "options(repr.plot.width = 20, repr.plot.height = 12)\n",
    "p1 <- DimPlot(combined_data, reduction = \"umap\", group.by = \"orig.ident\",shuffle=TRUE)\n",
    "p2 <- DimPlot(combined_data, reduction = \"umap\", group.by = \"annotation\", label = TRUE,shuffle=TRUE,repel = TRUE)\n",
    "\n",
    "seurat_subset <- subset(combined_data, subset = annotation %in% c('ProliferativeCells', 'DifferentiatedCells', NA))\n",
    "\n",
    "p3 <- DimPlot(combined_data, reduction = 'umap', group.by = 'seurat_clusters', label = TRUE, shuffle=TRUE, repel = TRUE)\n",
    "p4 <- FeaturePlot(seurat_subset,features = c('Neurod1','Mki67'), order = TRUE, blend=TRUE)\n",
    "p5 <- VlnPlot(seurat_subset, features = c('Neurod1'), group.by = 'orig.ident', layer = 'scale.data',alpha=0.2)"
   ]
  },
  {
   "cell_type": "code",
   "execution_count": null,
   "id": "488fdb82-7fd7-4411-b1bb-415528b49bad",
   "metadata": {},
   "outputs": [],
   "source": [
    "p6 <- VlnPlot(subset(sc_list[[1]], subset = annotation %in% c('ProliferativeCells', 'DifferentiatedCells')), \n",
    "              features = c('Neurod1'), group.by = 'orig.ident', layer = 'scale.data', add.noise = FALSE) + theme(legend.position = 'none')\n",
    "p7 <- VlnPlot(subset(sc_list[[2]], subset = annotation %in% c('ProliferativeCells', 'DifferentiatedCells')), \n",
    "              features = c('Neurod1'), group.by = 'orig.ident', layer = 'scale.data', add.noise = FALSE) + theme(legend.position = 'none')\n",
    "p8 <- VlnPlot(subset(sc_list[[3]], subset = annotation %in% c('ProliferativeCells', 'DifferentiatedCells')), \n",
    "              features = c('Neurod1'), group.by = 'orig.ident', layer = 'scale.data', add.noise = FALSE) + theme(legend.position = 'none')"
   ]
  },
  {
   "cell_type": "code",
   "execution_count": null,
   "id": "803820ef-db37-4b83-afcc-6eac60575d9b",
   "metadata": {
    "scrolled": true
   },
   "outputs": [],
   "source": [
    "options(repr.plot.width = 20, repr.plot.height = 18)\n",
    "#(p1 | p2 | p3 )\n",
    "#(p4 | p5) +\n",
    "#  plot_layout(widths = c(1, 2))\n",
    "p <- (( p1 | p2 | p3 ) /\n",
    "(p4 + plot_layout(widths = c(3,3,3,1))) /\n",
    "( p5 | p6 | p7 | p8 )) + plot_annotation(tag_levels = 'a')\n",
    "p\n",
    "ggsave('figures/rpca_integration.png', p, scale=2)"
   ]
  },
  {
   "cell_type": "code",
   "execution_count": null,
   "id": "d25df6c3-9a84-48af-bc5a-8c507e0467df",
   "metadata": {},
   "outputs": [],
   "source": [
    "# bug in VlnPlot when add.noise==TRUE; seems to delete area of plot when it contains lots of zeroes.\n",
    "options(repr.plot.width = 20, repr.plot.height = 6)\n",
    "p8.2 <- VlnPlot(subset(sc_list[[3]], subset = annotation %in% c('ProliferativeCells', 'DifferentiatedCells')), \n",
    "              features = c('Neurod1'), group.by = 'orig.ident', layer = 'scale.data')\n",
    "p7.2 <- VlnPlot(subset(sc_list[[2]], subset = annotation %in% c('ProliferativeCells', 'DifferentiatedCells')), \n",
    "              features = c('Neurod1'), group.by = 'orig.ident', layer = 'scale.data')\n",
    "p7 | p7.2 | p8 | p8.2"
   ]
  }
 ],
 "metadata": {
  "kernelspec": {
   "display_name": "sc-multiome",
   "language": "R",
   "name": "sc-multiome"
  },
  "language_info": {
   "codemirror_mode": "r",
   "file_extension": ".r",
   "mimetype": "text/x-r-source",
   "name": "R",
   "pygments_lexer": "r",
   "version": "4.3.3"
  }
 },
 "nbformat": 4,
 "nbformat_minor": 5
}
