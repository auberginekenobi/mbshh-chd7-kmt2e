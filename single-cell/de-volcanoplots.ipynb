{
 "cells": [
  {
   "cell_type": "code",
   "execution_count": null,
   "id": "1244a9b8-c187-40ac-a585-8088af764269",
   "metadata": {},
   "outputs": [],
   "source": []
  },
  {
   "cell_type": "code",
   "execution_count": null,
   "id": "a0c80c3f-1201-44c8-bf7e-07110afbb36d",
   "metadata": {
    "scrolled": true
   },
   "outputs": [],
   "source": [
    "Sys.setenv(LANGUAGE = \"en\") # set language to \"ja\" if you prefer\n",
    "\n",
    "suppressWarnings(library(EnhancedVolcano))\n",
    "suppressWarnings(library(patchwork)) # combine plots\n",
    "suppressWarnings(library(magrittr))\n",
    "suppressWarnings(library(tibble))\n",
    "suppressWarnings(library(readr))\n",
    "suppressWarnings(library(repr))\n",
    "suppressWarnings(library(stringr))\n",
    "suppressWarnings(library(dplyr))\n",
    "suppressWarnings(library(ggplot2))\n",
    "suppressWarnings(library(extrafont))\n",
    "suppressWarnings(library(svglite))\n",
    "\n",
    "suppressMessages(extrafont::font_import(pattern=\"Arial\",prompt=FALSE))\n",
    "suppressMessages(extrafont::loadfonts())"
   ]
  },
  {
   "cell_type": "code",
   "execution_count": null,
   "id": "c693eb93-b8b5-49d0-af5a-07eb553524fd",
   "metadata": {
    "scrolled": true
   },
   "outputs": [],
   "source": [
    "load_ttest_results <- function(){\n",
    "    ttest_results <- read_table('out/deg/tumor_pnc_ttest_deg.tsv') %>% \n",
    "        suppressMessages %>% \n",
    "        suppressWarnings %>% \n",
    "        rename(gene = names, log2FC = logfoldchanges, p = pvals, FDR = pvals_adj) %>% \n",
    "        select(-scores)\n",
    "    return(ttest_results)\n",
    "}\n",
    "ttest_results <- load_ttest_results()\n",
    "mast_results <- read_table('out/deg/tumor_pnc_mast_deg.tsv') %>% suppressMessages\n",
    "head(ttest_results)\n",
    "head(mast_results)"
   ]
  },
  {
   "cell_type": "code",
   "execution_count": null,
   "id": "0b81c501-51ad-43b7-85bd-c62fb8153a10",
   "metadata": {},
   "outputs": [],
   "source": [
    "ylabel=expression(-Log[10]*\"(\"*italic(q)*\")\")\n",
    "\n",
    "base_theme <- theme_classic(base_size=7, base_family=\"Arial\",) +\n",
    "    theme(axis.text = element_text(size=7,colour=\"black\"))\n",
    "theme_set(base_theme)\n",
    "\n",
    "mast_volcano <- function(stats_df){\n",
    "    plt <- EnhancedVolcano(stats_df,\n",
    "                lab = stats_df$'gene',\n",
    "                title = NULL,\n",
    "                subtitle = NULL,\n",
    "                caption = NULL,\n",
    "                axisLabSize = 14,\n",
    "                x = 'log2FC',\n",
    "                y = \"FDR\",\n",
    "                xlim = c(-.7,.7),\n",
    "                #ylim = c(0,1),\n",
    "                pCutoff = 1e-100,\n",
    "                FCcutoff = 0.2,\n",
    "                drawConnectors = TRUE,\n",
    "                maxoverlapsConnectors = Inf,\n",
    "                lengthConnectors = unit(0, \"npc\"),   \n",
    "                )\n",
    "    options(repr.plot.width=10, repr.plot.height=10)\n",
    "    return(plt + ylab(ylabel))\n",
    "}\n",
    "mv <- mast_volcano(mast_results)"
   ]
  },
  {
   "cell_type": "code",
   "execution_count": null,
   "id": "d15ff69c-70c0-476e-a1fc-923ce3d139fb",
   "metadata": {},
   "outputs": [],
   "source": [
    "ylabel=expression(-Log[10]*\"(\"*italic(q)*\")\")\n",
    "\n",
    "base_theme <- theme_classic(base_size=7, base_family=\"Arial\",) +\n",
    "    theme(axis.text = element_text(size=7,colour=\"black\"))\n",
    "theme_set(base_theme)\n",
    "\n",
    "ttest_volcano <- function(stats_df){\n",
    "    plt <- EnhancedVolcano(stats_df,\n",
    "                lab = stats_df$'gene',\n",
    "                title = NULL,\n",
    "                subtitle = NULL,\n",
    "                caption = NULL,\n",
    "                axisLabSize = 14,\n",
    "                x = 'log2FC',\n",
    "                y = \"FDR\",\n",
    "                xlim = c(-2,2),\n",
    "                #ylim = c(0,1),\n",
    "                pCutoff = 1e-200,\n",
    "                FCcutoff = 1,\n",
    "                drawConnectors = TRUE,\n",
    "                maxoverlapsConnectors = Inf,\n",
    "                lengthConnectors = unit(0, \"npc\"),   \n",
    "                )\n",
    "    options(repr.plot.width=10, repr.plot.height=10)\n",
    "    return(plt + ylab(ylabel))\n",
    "}\n"
   ]
  },
  {
   "cell_type": "code",
   "execution_count": null,
   "id": "cd32ed05-2325-4bf3-ac55-ec6a1c5b59fd",
   "metadata": {},
   "outputs": [],
   "source": [
    "write_plot <- function(plt,outfile,width,height){\n",
    "    pdf.options(encoding='ISOLatin2.enc')\n",
    "    #pdfName = paste(outfile, \".pdf\", sep=\"\")\n",
    "    pngName = paste(outfile, \".png\", sep=\"\")\n",
    "    #svgName = paste(outfile, \".svg\", sep = \"\")\n",
    "    #ggsave(path=\"figures\", filename=pdfName, device=\"pdf\", width=width, height=height, units='in')\n",
    "    ggsave(path=\"figures\", device=\"png\", filename=pngName, width=width, height=height, units='in')\n",
    "    #ggsave(path=\"figures\", device=\"svg\", filename=svgName, width=width, height=height, units='in')\n",
    "\n",
    "}"
   ]
  },
  {
   "cell_type": "code",
   "execution_count": null,
   "id": "6139c5c5-b0f9-4b9f-808a-8e170c5d4439",
   "metadata": {},
   "outputs": [],
   "source": [
    "plt <- ttest_volcano(ttest_results)\n",
    "w=8;h=8\n",
    "options(repr.plot.width=w, repr.plot.height=h)\n",
    "write_plot(plt,\"deg_ttest_volcano\",w,h)\n",
    "plt"
   ]
  },
  {
   "cell_type": "code",
   "execution_count": null,
   "id": "67659c86-e59a-446e-b0f1-8360683d145c",
   "metadata": {},
   "outputs": [],
   "source": [
    "plt <- mast_volcano(mast_results)\n",
    "w=8;h=8\n",
    "options(repr.plot.width=w, repr.plot.height=h)\n",
    "write_plot(plt,\"deg_mast_volcano\",w,h)\n",
    "plt"
   ]
  },
  {
   "cell_type": "code",
   "execution_count": null,
   "id": "80a96b8a-16ad-40b2-abd6-0ebe37c2f379",
   "metadata": {},
   "outputs": [],
   "source": []
  }
 ],
 "metadata": {
  "kernelspec": {
   "display_name": "sc-de-plotting",
   "language": "R",
   "name": "sc-de-plotting"
  },
  "language_info": {
   "codemirror_mode": "r",
   "file_extension": ".r",
   "mimetype": "text/x-r-source",
   "name": "R",
   "pygments_lexer": "r",
   "version": "4.3.3"
  }
 },
 "nbformat": 4,
 "nbformat_minor": 5
}
