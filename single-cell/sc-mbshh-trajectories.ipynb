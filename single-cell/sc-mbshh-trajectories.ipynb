{
 "cells": [
  {
   "cell_type": "markdown",
   "id": "1b07d618-cc1f-49b3-a496-081e7c86a76c",
   "metadata": {},
   "source": [
    "Data published in [Shiraishi et al, 2024, Cancer-specific epigenome identifies oncogenic hijacking by nuclear factor I family proteins for medulloblastoma progression](https://pubmed.ncbi.nlm.nih.gov/38834071/).  \n",
    "Available in [GSE243609](https://www.ncbi.nlm.nih.gov/geo/query/acc.cgi?acc=GSE243609).  \n",
    "Comparison of available trajectory methods: https://biocellgen-public.svi.edu.au/mig_2019_scrnaseq-workshop/trajectory-inference.html\n"
   ]
  },
  {
   "cell_type": "code",
   "execution_count": null,
   "id": "08ec3627-2413-47eb-8a0a-0593e7a152b6",
   "metadata": {
    "scrolled": true
   },
   "outputs": [],
   "source": [
    "Sys.setenv(LANGUAGE = \"en\") # set language to \"ja\" if you prefer\n",
    "\n",
    "library(Seurat)\n",
    "library(tidyverse)\n",
    "library(harmony)\n",
    "library(ggplot2)\n",
    "library(future)\n",
    "library(mclust)\n",
    "library(patchwork)\n",
    "library(ggalluvial)\n",
    "library(ggrepel)\n",
    "library(RColorBrewer)\n",
    "library(slingshot)\n",
    "library(igraph)\n",
    "library(ggbeeswarm)\n",
    "\n",
    "set.seed(47);"
   ]
  },
  {
   "cell_type": "markdown",
   "id": "338b250f-ae2a-4da8-8a83-d1cfe1adfd9f",
   "metadata": {},
   "source": [
    "# Data processing and clustering"
   ]
  },
  {
   "cell_type": "code",
   "execution_count": null,
   "id": "fae2044b-728c-4d3f-b391-cfa3cd4ee2e0",
   "metadata": {},
   "outputs": [],
   "source": [
    "# Set parallel execution settings\n",
    "future::plan(\"multisession\", workers = as.integer(availableCores()/2), gc=TRUE)\n",
    "options(future.globals.maxSize = 1024*8*1024^2) # Set max variable size to 8Gb"
   ]
  },
  {
   "cell_type": "code",
   "execution_count": null,
   "id": "d2a8a7e7-d709-4837-a758-953035928ea7",
   "metadata": {},
   "outputs": [],
   "source": [
    "# Load data functions\n",
    "DATA_DIR = file.path('data','GSE243609') # change this if you put your data somewhere other than ./data/GSE243609/\n",
    "DATA_LOCATIONS <- list(\n",
    "    gnp = c(file.path(DATA_DIR,'GSM7791840_032103_filtered_feature_bc_matrix.h5'),\n",
    "           file.path(DATA_DIR,'GSM7791839_032103_fragments.tsv.gz')),\n",
    "    pnc = c(file.path(DATA_DIR,'GSM7791842_RS03056_filtered_feature_bc_matrix.h5'),\n",
    "            file.path(DATA_DIR,'GSM7791841_RS03056_fragments.tsv.gz')),\n",
    "    tumor = c(file.path(DATA_DIR,'GSM7791844_RS03060_filtered_feature_bc_matrix.h5'),\n",
    "              file.path(DATA_DIR,'GSM7791843_RS03060_fragments.tsv.gz'))\n",
    ")\n",
    "\n",
    "read_data_into_seurat <- function(experiment){\n",
    "    # experiment should be 'gnp', 'pnc', or 'tumor'\n",
    "    data <- Seurat::Read10X_h5(DATA_LOCATIONS[[experiment]][1])\n",
    "    print('loading RNA data...')\n",
    "    obj <- CreateSeuratObject(\n",
    "        counts=data$'Gene Expression',\n",
    "        project=experiment,\n",
    "        assay='RNA',\n",
    "        min.cells = 10,\n",
    "        min.features=100\n",
    "    )\n",
    "    return(obj)\n",
    "}\n",
    "\n",
    "read_annot_helper <- function(df,prefix){\n",
    "    df <- df %>% \n",
    "        filter(str_detect(cell, prefix)) %>%\n",
    "        mutate(cell = sub(\".*#\", \"\", cell)) %>%\n",
    "        column_to_rownames(., var = \"cell\")\n",
    "\n",
    "    return(df)\n",
    "}\n",
    "\n",
    "read_cell_annotations <- function(path='data/GSE243609/20241018_scRNA_CellTypeAnno_Table.csv'){\n",
    "    df = readr::read_csv(path,show_col_types = FALSE)\n",
    "    annot = list()\n",
    "    annot$gnp = read_annot_helper(df,\"^032103\")\n",
    "    annot$pnc = read_annot_helper(df,\"^RS03056\")\n",
    "    annot$tumor = read_annot_helper(df,\"^RS03060\")\n",
    "    return(annot)\n",
    "}"
   ]
  },
  {
   "cell_type": "code",
   "execution_count": null,
   "id": "8cf92970-97da-4a42-a4f3-f8344b078130",
   "metadata": {},
   "outputs": [],
   "source": [
    "# Read seurat objects\n",
    "gnp_data = read_data_into_seurat('gnp')\n",
    "pnc_data = read_data_into_seurat('pnc')\n",
    "tumor_data = read_data_into_seurat('tumor')\n",
    "\n",
    "# format as list of SO\n",
    "sc_list <- list(\n",
    "    gnp = gnp_data,\n",
    "    pnc = pnc_data,\n",
    "    tumor = tumor_data\n",
    ")\n",
    "sc_list"
   ]
  },
  {
   "cell_type": "code",
   "execution_count": null,
   "id": "825b5a84-ca78-4c97-860e-dfa32d0223b2",
   "metadata": {
    "scrolled": true
   },
   "outputs": [],
   "source": [
    "sc_list[[1]][[]]"
   ]
  },
  {
   "cell_type": "code",
   "execution_count": null,
   "id": "ad2fb0e6-4500-4fbf-81e3-4ecf0dbbf3d3",
   "metadata": {},
   "outputs": [],
   "source": [
    "# Annotate with cell ids\n",
    "annot = read_cell_annotations()\n",
    "for (sample in names(sc_list)){\n",
    "    sc_list[[sample]]$annotation <- annot[[sample]]\n",
    "}"
   ]
  },
  {
   "cell_type": "code",
   "execution_count": null,
   "id": "f0dd1b53-e88d-448b-953b-7681ef7bef12",
   "metadata": {},
   "outputs": [],
   "source": [
    "## QC\n",
    "qc <- function(sc_list){\n",
    "    # TODO: make plots pretty colors\n",
    "    # report number of low-quality cells dropped\n",
    "    plots = list()\n",
    "    for (name in names(sc_list)){\n",
    "        x <- sc_list[[name]]\n",
    "\n",
    "        # define useful qc metrics\n",
    "        x[[\"percent.mt\"]] <- PercentageFeatureSet(x, pattern = \"^mt-\")\n",
    "        x[[\"log_count_rna\"]] <- log(x$nCount_RNA)\n",
    "        x[[\"log_features_rna\"]] <- log(x$nFeature_RNA)\n",
    "\n",
    "        # set thresholds\n",
    "        ncount_lower_threshold = exp(mean(x$log_count_rna) - 2*sd(x$log_count_rna))\n",
    "        ncount_upper_threshold = exp(mean(x$log_count_rna) + 2*sd(x$log_count_rna))\n",
    "        nfeature_lower_threshold = exp(mean(x$log_features_rna) - 2*sd(x$log_features_rna))\n",
    "        nfeature_upper_threshold = exp(mean(x$log_features_rna) + 2*sd(x$log_features_rna))\n",
    "        mitochondrial_threshold = mean(x$percent.mt) + 2*sd(x$percent.mt)\n",
    "\n",
    "        # plot thresholds\n",
    "        plots[[paste(name,\"counts\",sep=\"_\")]] <- VlnPlot(x, features=\"nCount_RNA\", log=TRUE, layer=\"counts\") + \n",
    "            geom_hline(yintercept=ncount_lower_threshold, color='red') + \n",
    "            geom_hline(yintercept=ncount_upper_threshold, color='red')\n",
    "        plots[[paste(name,\"features\",sep=\"_\")]] <- VlnPlot(x, features=\"nFeature_RNA\", log=TRUE, layer=\"counts\") +\n",
    "            geom_hline(yintercept=nfeature_lower_threshold,color='red') + \n",
    "            geom_hline(yintercept=nfeature_upper_threshold,color='red')\n",
    "        plots[[paste(name,\"mitochondria\",sep=\"_\")]] <- VlnPlot(x, features=\"percent.mt\", log=TRUE, layer=\"counts\") + \n",
    "            geom_hline(yintercept=mitochondrial_threshold,color='red')\n",
    "\n",
    "        # apply thresholds\n",
    "        sc_list[[name]] <- x %>% \n",
    "            subset(nFeature_RNA > nfeature_lower_threshold & nFeature_RNA < nfeature_upper_threshold & \n",
    "                   nCount_RNA > ncount_lower_threshold & nCount_RNA < ncount_upper_threshold & \n",
    "                   percent.mt < mitochondrial_threshold\n",
    "                  )\n",
    "    }\n",
    "    options(repr.plot.width = 12, repr.plot.height = 12)\n",
    "    combined_plot <- wrap_plots(plots) + plot_layout(ncol = 3)  # Adjust ncol as needed\n",
    "    print(combined_plot)\n",
    "    return(sc_list)\n",
    "}\n",
    "sc_list <- qc(sc_list)"
   ]
  },
  {
   "cell_type": "code",
   "execution_count": null,
   "id": "68f8f95b-65a7-4117-94ae-ac6a97a5ad4e",
   "metadata": {},
   "outputs": [],
   "source": [
    "standard_seurat_analysis <- function(seuratobj){\n",
    "    return (seuratobj %>%\n",
    "        SCTransform(verbose = FALSE, vst.flavor=\"v2\") %>%\n",
    "        RunPCA(verbose = FALSE) %>%\n",
    "        RunUMAP(dims = 1:30, verbose = FALSE) %>%\n",
    "        FindNeighbors(dims = 1:30, verbose = FALSE) %>%\n",
    "        FindClusters(verbose = FALSE)\n",
    "    )\n",
    "}\n",
    "regress_mito_seurat_analysis <- function(seuratobj){\n",
    "    return (seuratobj %>%\n",
    "        SCTransform(verbose = FALSE, vst.flavor=\"v2\",vars.to.regress = \"percent.mt\", new.assay.name = \"m_SCT\") %>%\n",
    "        RunPCA(verbose = FALSE, assay=\"m_SCT\", reduction.name=\"m_pca\") %>%\n",
    "        RunUMAP(dims = 1:30, verbose = FALSE, reduction = \"m_pca\", reduction.name = \"m_umap\") %>%\n",
    "        FindNeighbors(dims = 1:30, verbose = FALSE, reduction = \"m_pca\", graph.name = \"m_snn\") %>%\n",
    "        FindClusters(verbose = FALSE, graph.name=\"m_snn\", cluster.name=\"mito_regressed_cluster\")\n",
    "    )\n",
    "}"
   ]
  },
  {
   "cell_type": "code",
   "execution_count": null,
   "id": "736e0716-953c-4cc2-a9b3-86e9917cbd16",
   "metadata": {
    "scrolled": true
   },
   "outputs": [],
   "source": [
    "sc_list <- lapply(X=sc_list, FUN=standard_seurat_analysis)"
   ]
  },
  {
   "cell_type": "code",
   "execution_count": null,
   "id": "f0c293e8-3387-4b7f-be34-16677cff0cfd",
   "metadata": {
    "scrolled": true
   },
   "outputs": [],
   "source": [
    "sc_list <- lapply(X=sc_list, FUN=regress_mito_seurat_analysis)"
   ]
  },
  {
   "cell_type": "code",
   "execution_count": null,
   "id": "a073fba4-f753-4a7a-8d4f-71cab9f9e65a",
   "metadata": {
    "scrolled": true
   },
   "outputs": [],
   "source": [
    "sc_list[[2]][[]]"
   ]
  },
  {
   "cell_type": "code",
   "execution_count": null,
   "id": "37035f5a-fab9-4f40-a24e-4c516377dfc6",
   "metadata": {},
   "outputs": [],
   "source": [
    "dimplots <- function(sc_list){\n",
    "    plots = list()\n",
    "        for (name in names(sc_list)){\n",
    "            x <- sc_list[[name]]\n",
    "            Idents(object = x) <- \"annotation\"\n",
    "            for (reduction in c(\"umap\",\"m_umap\")){\n",
    "                if (reduction == \"umap\"){\n",
    "                    negation = \"not\"\n",
    "                } else {\n",
    "                    negation = \"\"\n",
    "                }\n",
    "                title <- paste0(\"Clustering of sample \",name,'\\n',negation,\" controlling for mitochondrial read fraction\")\n",
    "                plots[[title]] <- DimPlot(x, reduction=reduction, label=TRUE, repel=TRUE) + \n",
    "                    ggtitle(title) + \n",
    "                    theme(legend.position = \"bottom\")\n",
    "            }\n",
    "            if (!F){ # don't generate this plot because it's uninformative but keep the code in case it's useful\n",
    "            frequency_table <- x[[]] %>%\n",
    "                group_by(seurat_clusters, annotation, mito_regressed_cluster) %>%\n",
    "                summarise(count = n(), .groups = 'drop')\n",
    "            plots[[paste0(name,\" alluvial\")]] <- ggplot(frequency_table,\n",
    "                    aes(axis1 = seurat_clusters,\n",
    "                        axis2 = annotation,\n",
    "                        axis3 = mito_regressed_cluster,\n",
    "                        y = count)) +\n",
    "                geom_flow(aes(fill = annotation),decreasing=FALSE) +\n",
    "                geom_stratum(decreasing=FALSE) +\n",
    "                geom_text(stat = \"stratum\", decreasing=FALSE,\n",
    "                    aes(label = after_stat(stratum)))\n",
    "            }\n",
    "        }\n",
    "    options(repr.plot.width = 20, repr.plot.height = 16)\n",
    "    combined_plot <- wrap_plots(plots) + plot_layout(ncol = 3)\n",
    "    print(combined_plot)\n",
    "    return()\n",
    "}\n",
    "dimplots(sc_list)"
   ]
  },
  {
   "cell_type": "code",
   "execution_count": null,
   "id": "cf45eb7e-ebb2-4d63-822b-5b3d3210930c",
   "metadata": {},
   "outputs": [],
   "source": [
    "sc_list <- lapply(X=sc_list, FUN=function(x){\n",
    "    DefaultAssay(x) <- \"m_SCT\"\n",
    "    return(x)\n",
    "})"
   ]
  },
  {
   "cell_type": "code",
   "execution_count": null,
   "id": "99eff260-6c61-4d69-90d4-1a32224e1f41",
   "metadata": {},
   "outputs": [],
   "source": [
    "options(repr.plot.width = 20, repr.plot.height = 20)\n",
    "ncol=5\n",
    "features=c(\"Gli1\",\"Gli2\",\"Mki67\",\"Ctnnb1\",\"Birc5\",\"Ntrk3\",\n",
    "           \"Trp53\",\"Pten\",\"Tll1\",\"Tex14\",\n",
    "           \"Rbfox3\",\"Cntn2\",\"Neurod1\",\"Cacna1e\",\"Kcnk1\",\"Grin2b\",\"Cntnap4\",\"Samd12\",\"Zmat4\",\n",
    "           \"Prom1\",\"Myc\",\"Scrt2\")\n",
    "FeaturePlot(sc_list[[1]], slot='data', features=features,ncol=ncol, label=TRUE)\n",
    "FeaturePlot(sc_list[[2]], slot='data', features=features,ncol=ncol, label=TRUE)\n",
    "FeaturePlot(sc_list[[3]], slot='data', features=features,ncol=ncol, label=TRUE)"
   ]
  },
  {
   "cell_type": "code",
   "execution_count": null,
   "id": "24b804c1-e33f-4ae7-8766-4d5d7ff6bb9f",
   "metadata": {},
   "outputs": [],
   "source": [
    "saveRDS(sc_list, \"out/seuratobject_list.rds\")"
   ]
  },
  {
   "cell_type": "markdown",
   "id": "70f5aab5-7205-4544-b42a-3def2712f827",
   "metadata": {},
   "source": [
    "# pseudotime"
   ]
  },
  {
   "cell_type": "code",
   "execution_count": null,
   "id": "74a4b73e-04de-4ecb-b3de-39e3cad8049c",
   "metadata": {},
   "outputs": [],
   "source": [
    "sc_list <- readRDS(\"out/seuratobject_list.rds\")"
   ]
  },
  {
   "cell_type": "code",
   "execution_count": null,
   "id": "76215c96-3899-40ce-bd0d-8e33e8024462",
   "metadata": {
    "scrolled": true
   },
   "outputs": [],
   "source": [
    "# check for cells which change cluster identity\n",
    "test <- sc_list[[2]]\n",
    "# but regressing out mitochondrial fraction seems to reduce intra-cluster variation"
   ]
  },
  {
   "cell_type": "code",
   "execution_count": null,
   "id": "0a172df8-e7fc-4038-83a6-77387a03c7da",
   "metadata": {},
   "outputs": [],
   "source": [
    "get_umap_centroids <- function(seuratobj){\n",
    "    # Get UMAP embeddings\n",
    "    umap_embeddings <- Embeddings(seuratobj, reduction = 'm_umap')\n",
    "    \n",
    "    # Step 2: Get cluster identities\n",
    "    clusters <- Idents(seuratobj)\n",
    "    \n",
    "    # Step 3: Combine embeddings and cluster identities into a data frame\n",
    "    umap_data <- as.data.frame(umap_embeddings)\n",
    "    umap_data$cluster <- clusters\n",
    "    \n",
    "    # Step 4: Calculate centroids for each cluster\n",
    "    centroids <- umap_data %>%\n",
    "      group_by(cluster) %>%\n",
    "      summarize(across(everything(), mean))\n",
    "    \n",
    "    # View centroids\n",
    "    return(centroids)\n",
    "}\n",
    "\n",
    "plot_slingshot_mst <- function(so,subset_so,psobj){\n",
    "    # helper function plots minimum spanning tree from slingshot analysis onto the umap DimPlot.\n",
    "    # subset_so: subsetted seurat object only containing clusters of interest\n",
    "    # psobj: PseudotimeOrdering from slingshot.\n",
    "    centroids <- get_umap_centroids(subset_so)\n",
    "    mst <- slingMST(psobj) %>% (igraph::as_edgelist) %>% as.data.frame\n",
    "    edges <- mst %>%\n",
    "        left_join(centroids, by = c(\"V1\" = \"cluster\")) %>%\n",
    "        rename(\"mumap_1\"=\"x1\",\"mumap_2\"=\"y1\") %>%\n",
    "        left_join(centroids, by = c(\"V2\" = \"cluster\")) %>%\n",
    "        rename(\"mumap_1\"=\"x2\",\"mumap_2\"=\"y2\")\n",
    "    plt <- DimPlot(so, reduction=\"m_umap\", label=TRUE, label.size=5, repel=TRUE) + \n",
    "        geom_point(aes(y=mumap_2,x=mumap_1),data=centroids) + \n",
    "        geom_segment(data=edges, aes(x=x1, y=y1, xend=x2, yend=y2)) + \n",
    "        ggtitle(\"Pseudotime trajectory in UMAP space\") + \n",
    "        theme(plot.title = element_text(hjust = 0.5))\n",
    "    return(plt)\n",
    "}\n",
    "\n",
    "plot_pseudotime_ordering <- function(so,cell_ids=\"mito_regressed_cluster\",pseudotime=\"avg_pseudotime\"){\n",
    "    # so: seuratobject. Assumes cell_ids and pseudotime columns present in the metadata\n",
    "    plot <- ggplot(so[[]] %>% na.omit, aes(x = !!sym(pseudotime), y = !!sym(cell_ids), \n",
    "                              colour = !!sym(cell_ids))) +\n",
    "        geom_quasirandom(groupOnX = FALSE) + \n",
    "        theme_classic() +\n",
    "        xlab(\"Slingshot pseudotime\") + ylab(\"cell type\") +\n",
    "        ggtitle(\"Cells ordered by Slingshot pseudotime\") + \n",
    "        theme(plot.title = element_text(hjust = 0.5))\n",
    "    return(plot)\n",
    "}\n",
    "\n",
    "pseudotime_analysis <- function(seuratobj,clusters_to_drop=NULL,start.clus=NULL,end.clus=NULL){\n",
    "    # clusters_to_drop: clusters to remove from pseudotime analysis, presumably because they come from an independent lineage. Look for outlier clusters in the DimPlot.\n",
    "    Idents(seuratobj) <- 'mito_regressed_cluster' # use these cluster identities\n",
    "\n",
    "    subset_so <- seuratobj %>% subset(idents=clusters_to_drop, invert=TRUE) \n",
    "    # get cell IDs for clusters of interest\n",
    "    clustering <- Idents(subset_so)\n",
    "    # get first 30 PCs for all cells in clusters of interest\n",
    "    data <- Embeddings(subset_so,reduction='m_pca')[names(clustering), 1:30]\n",
    "    # run slingshot\n",
    "    psobj <- slingshot(data = data, clusterLabels = clustering,start.clus=start.clus,end.clus=end.clus)\n",
    "\n",
    "    plots = list()\n",
    "    \n",
    "    # Plot minimum spanning tree\n",
    "    plots[[\"mst\"]] <- plot_slingshot_mst(seuratobj,subset_so,psobj)\n",
    "\n",
    "    # Add pseudotime to metadata\n",
    "    seuratobj$avg_pseudotime <- psobj %>% slingAvgPseudotime\n",
    "    \n",
    "    # Plot cells along pseudotime trajectory\n",
    "    plots[[\"cell_pseudotime\"]] <- plot_pseudotime_ordering(seuratobj)\n",
    "\n",
    "    # Plot Neurod1 expression against pseudotime\n",
    "    DefaultAssay(seuratobj) <- \"m_SCT\"\n",
    "    plots[[\"Neurod1_pseudotime\"]] <- FeatureScatter(seuratobj,feature1='avg_pseudotime',feature2='Neurod1',pt.size=0.5,slot='scale.data') + \n",
    "        geom_smooth(na.rm=TRUE,method='gam',formula = y ~ s(x, bs = \"gp\")) + \n",
    "        ggtitle(\"Neurod1 expression over pseudotime\") +\n",
    "        theme(plot.title = element_text(hjust = 0.5))\n",
    "\n",
    "    options(repr.plot.width = 18, repr.plot.height = 6)\n",
    "    combined_plot <- wrap_plots(plots) + plot_layout(ncol = 3)  # Adjust ncol as needed\n",
    "    print(combined_plot)\n",
    "    \n",
    "    return(list(seuratobject=seuratobj,pseudotime=psobj,plots=plots))\n",
    "}"
   ]
  },
  {
   "cell_type": "code",
   "execution_count": null,
   "id": "875028a3-bd69-47ed-be39-7bbf137664c1",
   "metadata": {},
   "outputs": [],
   "source": [
    "gnp_result <- pseudotime_analysis(sc_list[[1]],clusters_to_drop=c(7,8,9,11,12,13,14,15),end.clus=5)"
   ]
  },
  {
   "cell_type": "code",
   "execution_count": null,
   "id": "6f8178b2-53f9-40d0-bd95-d656729e2ca0",
   "metadata": {},
   "outputs": [],
   "source": [
    "pnc_result <- pseudotime_analysis(sc_list[[2]],clusters_to_drop=c(7,9),start.clus=5,end.clus=2)"
   ]
  },
  {
   "cell_type": "code",
   "execution_count": null,
   "id": "ad4c17c7-1766-48ba-b52c-b741af370c2d",
   "metadata": {},
   "outputs": [],
   "source": [
    "tumor_result <- pseudotime_analysis(sc_list[[3]],clusters_to_drop=c(9,10),start.clus=0,end.clus=4)"
   ]
  },
  {
   "cell_type": "code",
   "execution_count": null,
   "id": "b9718a2f-eda6-4591-8442-2ff3824aa129",
   "metadata": {
    "scrolled": true
   },
   "outputs": [],
   "source": [
    "tumor_result[[1]][[]]"
   ]
  },
  {
   "cell_type": "code",
   "execution_count": null,
   "id": "f15a5432-de5a-4d60-b568-157c16acabcd",
   "metadata": {},
   "outputs": [],
   "source": [
    "pseudotime_heatmap <- function(seuratobj,features){\n",
    "    DefaultAssay(seuratobj) <- \"m_SCT\"\n",
    "    # order cells by pseudotime\n",
    "    x<- FetchData(seuratobj, vars = \"avg_pseudotime\") %>% as.data.frame\n",
    "    order.index <- order(x$avg_pseudotime, decreasing = FALSE)\n",
    "    cell.order <- rownames(x)[order.index]\n",
    "    \n",
    "    # hack hack add pseudotime to heatmap by making a new assay with avg-pseudotime as a gene\n",
    "    seuratobj[['heatmap']] <- CreateAssayObject(data = t(x = FetchData(object = seuratobj, layer = 'scale.data', vars = c(features,'avg_pseudotime'))))\n",
    "    seuratobj[[\"heatmap\"]]$data['avg-pseudotime', ] <- seuratobj[[\"heatmap\"]]$data['avg-pseudotime', ]/20\n",
    "    \n",
    "    # plot\n",
    "    DoHeatmap(object = seuratobj, features = c(features,'avg-pseudotime'), assay = 'heatmap', slot = 'data',group.by=\"orig.ident\", cells=cell.order)\n",
    "}\n",
    "\n",
    "features=c(\"Gli1\",\"Gli2\",\"Mki67\",\"Ctnnb1\",\"Birc5\",\"Ntrk3\",\n",
    "           \"Trp53\",\"Pten\",\"Tll1\",\"Tex14\",\n",
    "           \"Rbfox3\",\"Cntn2\",\"Neurod1\",\"Cacna1e\",\"Kcnk1\",\"Grin2b\",\"Cntnap4\",\"Samd12\",\"Zmat4\",\n",
    "           \"Prom1\",\"Myc\",\"Scrt2\")\n",
    "\n",
    "options(warn=-1)\n",
    "pseudotime_heatmap(gnp_result[[1]],features)\n",
    "pseudotime_heatmap(pnc_result[[1]],features)\n",
    "pseudotime_heatmap(tumor_result[[1]],features)\n",
    "options(warn=0)"
   ]
  },
  {
   "cell_type": "code",
   "execution_count": null,
   "id": "7564cec9-b29f-4081-98d9-38384031250b",
   "metadata": {},
   "outputs": [],
   "source": [
    "library(RColorBrewer)\n",
    "\n",
    "pseudotime_curves <- function(seuratobj,features){\n",
    "    num_features <- length(features)\n",
    "    # Generate a color palette (up to 12 colors with 'Set3')\n",
    "    colors <- if (num_features > 12) {\n",
    "      colorRampPalette(brewer.pal(12, \"Set3\"))(num_features)\n",
    "    } else {\n",
    "      brewer.pal(num_features, \"Set3\")\n",
    "    }\n",
    "\n",
    "\n",
    "    # Create a mapping of colours to feature names\n",
    "    colour_to_feature <- data.frame(colour = colors, \n",
    "                                 feature = features)\n",
    "    \n",
    "    DefaultAssay(seuratobj) <- \"m_SCT\"\n",
    "    data <- FetchData(object = seuratobj, vars = c(\"avg_pseudotime\", features), layer = \"data\") %>%\n",
    "        pivot_longer(cols = features, names_to = 'gene', values_to = 'expression')\n",
    "    \n",
    "    options(repr.plot.width = 18, repr.plot.height = 6)\n",
    "    p <- ggplot(data, aes(x=avg_pseudotime,y=expression, color=gene)) +\n",
    "        geom_smooth(se=FALSE,na.rm=TRUE,method='gam',formula = y ~ s(x, bs = \"gp\")) +\n",
    "        #scale_color_manual(values = setNames(colour_to_feature$colour, colour_to_feature$feature)) +  # Set colors\n",
    "        scale_color_manual(values = setNames(colors, features)) +  # Set colors directly\n",
    "        labs(color = \"Feature\") + \n",
    "        theme_classic()\n",
    "\n",
    "    # Build the ggplot object to extract smoothed data\n",
    "    p_built <- ggplot_build(p)\n",
    "    \n",
    "    # Extract the smoothed data for each feature\n",
    "    endpoints <- p_built$data[[1]] %>%\n",
    "        mutate(xc=x,yc=y) %>% # rename because variable namespace too crowded for which.max\n",
    "        group_by(colour) %>%\n",
    "        reframe(\n",
    "            x = max(xc),\n",
    "            y = yc[base::which.max(xc)],\n",
    "            #feature = colour_to_feature$feature[match(colour, setNames(colour_to_feature$colour, colour_to_feature$feature))],\n",
    "            feature = features[match(colour, colors)],  # Match directly using colors\n",
    "        ) %>% unique\n",
    "    # Add labels for each feature at the endpoints of the curves\n",
    "    p <- p + geom_label_repel(data = endpoints, aes(x = x, y = y, label = feature), \n",
    "                       #vjust = -0.5, hjust = 1.5, \n",
    "                       size = 4, color = \"black\")\n",
    "\n",
    "    startpoints <- p_built$data[[1]] %>%\n",
    "        mutate(xc=x,yc=y) %>% # rename because variable namespace too crowded for which.max\n",
    "        group_by(colour) %>%\n",
    "        reframe(\n",
    "            x = min(xc),\n",
    "            y = yc[base::which.min(xc)],\n",
    "            #feature = colour_to_feature$feature[match(colour, setNames(colour_to_feature$colour, colour_to_feature$feature))],\n",
    "            feature = features[match(colour, colors)],  # Match directly using colors\n",
    "        ) %>% unique\n",
    "    # Add labels for each feature at the endpoints of the curves\n",
    "    p <- p + geom_label_repel(data = startpoints, aes(x = x, y = y, label = feature), \n",
    "                       #vjust = -0.5, hjust = 1.5, \n",
    "                       size = 4, color = \"black\")\n",
    "    print(p)\n",
    "    return(list(endpoints=endpoints,p_built=p_built,color_to_feature=colour_to_feature))\n",
    "}\n",
    "\n",
    "subfeatures = c(\"Gli1\",\"Gli2\",\"Mki67\",\"Neurod1\",\"Birc5\",\"Ntrk3\",\n",
    "           \"Rbfox3\",\"Cntn2\",\"Ctnnb1\",\"Cacna1e\",\"Grin2b\",\"Samd12\")\n",
    "\n",
    "options(warn=-1)\n",
    "out = pseudotime_curves(gnp_result[[1]],subfeatures)\n",
    "out = pseudotime_curves(pnc_result[[1]],subfeatures)\n",
    "out = pseudotime_curves(tumor_result[[1]],subfeatures)\n",
    "options(warn=0)"
   ]
  },
  {
   "cell_type": "code",
   "execution_count": null,
   "id": "566db017-b4fd-4758-a769-b9e96cdbcc28",
   "metadata": {},
   "outputs": [],
   "source": [
    "options(warn=0)"
   ]
  },
  {
   "cell_type": "code",
   "execution_count": null,
   "id": "c0ccc8ec-64f8-406d-9a64-5c5a813dd4ef",
   "metadata": {},
   "outputs": [],
   "source": [
    "saveRDS(psobj, \"out/slingshot_pseudotimeordering.rds\")\n"
   ]
  },
  {
   "cell_type": "markdown",
   "id": "e7d8d163-83ce-49ad-9d1a-4efb2fd33de8",
   "metadata": {},
   "source": [
    "# TODO\n",
    "- Label cells by cell type annotation\n",
    "- Set start and end points\n",
    "- Plot gene expression of Neurod1 etc. "
   ]
  },
  {
   "cell_type": "markdown",
   "id": "c2986d65-66b0-4151-ad87-eb7cb1c899b7",
   "metadata": {},
   "source": [
    "# Pseudotime illustration"
   ]
  },
  {
   "cell_type": "code",
   "execution_count": null,
   "id": "cc1b5456-9a98-4625-b2af-bc032f66d275",
   "metadata": {
    "scrolled": true
   },
   "outputs": [],
   "source": [
    "?ggsave"
   ]
  },
  {
   "cell_type": "code",
   "execution_count": null,
   "id": "aec86875-81fb-49a8-8b0e-2cfb958ee0c4",
   "metadata": {},
   "outputs": [],
   "source": [
    "plots = list()\n",
    "\n",
    "seuratobj = sc_list[[2]]\n",
    "Idents(object = seuratobj) <- \"annotation\"\n",
    "\n",
    "tmp <- FeaturePlot(seuratobj, slot='data', features = c(\"Mki67\",\"Rbfox3\"), blend = TRUE, combine=FALSE)\n",
    "plots[[1]] <- tmp[[3]] + scale_color_manual(labels=c('Ki67-/Neun-','Ki67+/Neun-','Ki67-/Neun+','Ki67+/Neun+'),\n",
    "                                           values=c(\"grey\",\"red\",\"green\",\"yellow\")) + \n",
    "    ggtitle(\"Ki67/NeuN expression\")\n",
    "\n",
    "plots[[2]] = DimPlot(seuratobj, reduction=\"m_umap\", label=TRUE, repel=TRUE, label.size=5) + \n",
    "    ggtitle(\"Cell annotations\") + \n",
    "    theme(plot.title = element_text(hjust = 0.5))\n",
    "\n",
    "seuratobj = pnc_result[[1]]\n",
    "subset_so <- seuratobj %>% subset(idents=c(7,9), invert=TRUE)\n",
    "psobj = pnc_result[[2]]\n",
    "Idents(object = seuratobj) <- \"mito_regressed_cluster\"\n",
    "plots[[3]] = plot_slingshot_mst(seuratobj,subset_so,psobj) + theme(legend.position = \"none\") +\n",
    "    ggtitle(\"Pseudotime trajectory\")\n",
    "\n",
    "options(repr.plot.width = 20, repr.plot.height = 8)\n",
    "combined_plot <- wrap_plots(plots) + plot_layout(ncol = length(plots)) + \n",
    "    plot_annotation(title=\"Mouse Ptch1- preneoplastic cells from\\nShiraishi et al. 2023\",\n",
    "                   theme = theme(plot.title = element_text(hjust = 0.5, size=16, face='bold')))\n",
    "print(combined_plot)\n",
    "combined_plot <- combined_plot + plot_layout(ncol = 1)\n",
    "ggsave(\"out/pseudotime_example.png\",width=6,height=12)"
   ]
  },
  {
   "cell_type": "markdown",
   "id": "f51fc801-c03f-4318-bae0-90c5823cc167",
   "metadata": {},
   "source": [
    "# Atoh1 in pnc"
   ]
  },
  {
   "cell_type": "code",
   "execution_count": null,
   "id": "45f51ff5-68f0-4056-849e-79c1668ad927",
   "metadata": {},
   "outputs": [],
   "source": [
    "sample = sc_list[[2]]\n",
    "features = c('Atoh1','Neurod1')\n",
    "FeaturePlot(sample, slot='data', features=features,ncol=2, label=TRUE)"
   ]
  },
  {
   "cell_type": "markdown",
   "id": "064110cc-9bd2-4515-b7e5-74c16d22991d",
   "metadata": {},
   "source": [
    "# Dead code"
   ]
  },
  {
   "cell_type": "code",
   "execution_count": null,
   "id": "2e953e57-7f5a-48d0-8bd2-73ef48b34999",
   "metadata": {},
   "outputs": [],
   "source": [
    "# Signac hangs on CreateChromatinAssay during \"computing hash\" step.\n",
    "# possible causes:\n",
    "#  Apple silicon architecture?\n",
    "#  Just requires a ton of resources?\n",
    "#  May need to load multiome data on shirokane, or use a different tool.\n",
    "\n",
    "library(Signac)\n",
    "library(BSgenome.Mmusculus.UCSC.mm10)\n",
    "library(EnsDb.Mmusculus.v79)\n",
    "\n",
    "ANNOTATION <- GetGRangesFromEnsDb(ensdb = EnsDb.Mmusculus.v79)\n",
    "seqlevelsStyle(ANNOTATION) <- 'UCSC'\n",
    "genome(ANNOTATION) <- \"mm10\"\n",
    "\n",
    "print('loading ATAC data...')\n",
    "atac_counts <- data$Peaks\n",
    "grange.counts <- StringToGRanges(rownames(atac_counts), sep = c(\":\", \"-\"))\n",
    "grange.use <- seqnames(grange.counts) %in% standardChromosomes(grange.counts)\n",
    "atac_counts <- atac_counts[as.vector(grange.use), ]\n",
    "obj[[\"ATAC\"]] <- CreateChromatinAssay(\n",
    "    counts = atac_counts,\n",
    "    sep = c(\":\", \"-\"),\n",
    "    genome = 'mm10',\n",
    "    fragments = DATA_LOCATIONS[[experiment]][2],\n",
    "    min.cells = 10,\n",
    "    min.features = 100,\n",
    "    annotation = ANNOTATION\n",
    ")"
   ]
  },
  {
   "cell_type": "code",
   "execution_count": null,
   "id": "f74fc5f7-ce26-4d1f-95aa-89f43f5138b4",
   "metadata": {},
   "outputs": [],
   "source": []
  }
 ],
 "metadata": {
  "kernelspec": {
   "display_name": "sc-multiome",
   "language": "R",
   "name": "sc-multiome"
  },
  "language_info": {
   "codemirror_mode": "r",
   "file_extension": ".r",
   "mimetype": "text/x-r-source",
   "name": "R",
   "pygments_lexer": "r",
   "version": "4.3.3"
  }
 },
 "nbformat": 4,
 "nbformat_minor": 5
}
