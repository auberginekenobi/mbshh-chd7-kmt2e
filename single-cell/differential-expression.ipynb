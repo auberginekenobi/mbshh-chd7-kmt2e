{
 "cells": [
  {
   "cell_type": "markdown",
   "id": "fb271597-bd71-4443-bbda-3940706c4d7a",
   "metadata": {},
   "source": [
    "# Differential expression\n",
    "What genes are upregulated in tumor vs. pnc hyperplastic cells?  \n",
    "**Prerequisites**  \n",
    "Perform batch correction on Shiraishi *et al* data. See batch-correction-scgen.ipynb.\n",
    "\n",
    "## Introduction\n",
    "Concordance across DEG approaches is low. Pseudobulk analyses outperform cell-level analyses. [source](https://www.sc-best-practices.org/conditions/differential_gene_expression.html).  \n",
    "However, we have only 1 scRNA sample per phenotype (gnp, pnc, tumor). Therefore, we have to do it at the cell level.  \n",
    "To estimate concordance, we will perform a few different analyses:\n",
    "- T-test (https://scanpy.readthedocs.io/en/stable/generated/scanpy.tl.rank_genes_groups.html)\n",
    "- diffxpy (https://diffxpy.readthedocs.io/en/latest/tutorials.html)\n",
    "- GLM on bulk RNA-seq (edgeR, to be implemented in a new notebook).\n"
   ]
  },
  {
   "cell_type": "code",
   "execution_count": null,
   "id": "2c232018-3120-4042-accf-181a1d0eaeef",
   "metadata": {},
   "outputs": [],
   "source": [
    "import scanpy as sc\n",
    "import anndata as ad"
   ]
  },
  {
   "cell_type": "code",
   "execution_count": null,
   "id": "eae2cf8f-23ba-4aaa-bd3e-b7c0285b205a",
   "metadata": {},
   "outputs": [],
   "source": [
    "path='out/shiraishi_merge.h5ad'\n",
    "data=ad.read_h5ad(path)\n",
    "data = data[data.obs.annotation.isin(['ProliferativeCells','DifferentiatedCells']) & data.obs['sample'].isin(['pnc','tumor'])].copy()\n",
    "data"
   ]
  },
  {
   "cell_type": "code",
   "execution_count": null,
   "id": "d24203f8-7092-48c9-a3e2-366ddf6e369b",
   "metadata": {},
   "outputs": [],
   "source": [
    "sc.tl.rank_genes_groups(data,groupby='sample',groups=['pnc','tumor'],method='t-test')\n",
    "sc.pl.rank_genes_groups(data,n_genes=30,sharey=False,save='_tumor_pnc_deg.png')"
   ]
  },
  {
   "cell_type": "code",
   "execution_count": null,
   "id": "82ff266b-9bd2-4f9f-b18c-9b6f15cbb16c",
   "metadata": {},
   "outputs": [],
   "source": [
    "df1 = sc.get.rank_genes_groups_df(data,group='tumor')\n",
    "df1.to_csv('out/deg/tumor_pnc_ttest_deg.tsv',sep='\\t',index=False)"
   ]
  },
  {
   "cell_type": "code",
   "execution_count": null,
   "id": "41b15099-9cce-4093-ac66-523179d4fe0c",
   "metadata": {},
   "outputs": [],
   "source": []
  }
 ],
 "metadata": {
  "kernelspec": {
   "display_name": "scgen",
   "language": "python",
   "name": "scgen"
  },
  "language_info": {
   "codemirror_mode": {
    "name": "ipython",
    "version": 3
   },
   "file_extension": ".py",
   "mimetype": "text/x-python",
   "name": "python",
   "nbconvert_exporter": "python",
   "pygments_lexer": "ipython3",
   "version": "3.12.7"
  }
 },
 "nbformat": 4,
 "nbformat_minor": 5
}
