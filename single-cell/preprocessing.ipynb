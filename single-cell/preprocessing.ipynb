{
 "cells": [
  {
   "cell_type": "markdown",
   "id": "1b07d618-cc1f-49b3-a496-081e7c86a76c",
   "metadata": {},
   "source": [
    "# Preprocessing\n",
    "Data published in [Shiraishi et al, 2024, Cancer-specific epigenome identifies oncogenic hijacking by nuclear factor I family proteins for medulloblastoma progression](https://pubmed.ncbi.nlm.nih.gov/38834071/).  \n",
    "Available in [GSE243609](https://www.ncbi.nlm.nih.gov/geo/query/acc.cgi?acc=GSE243609).  \n",
    "\n",
    "Notebook performs standard preprocessing including QC on mitochondrial reads, read depth and read complexity.  \n",
    "Outputs a list of 3 seuratobjects [gnp, pnc, tumor] to `out/seuratobject_list.rds`.  \n",
    "`m_` prefixed variables indicate transformations regressing on percent.mt."
   ]
  },
  {
   "cell_type": "code",
   "execution_count": null,
   "id": "08ec3627-2413-47eb-8a0a-0593e7a152b6",
   "metadata": {
    "scrolled": true
   },
   "outputs": [],
   "source": [
    "Sys.setenv(LANGUAGE = \"en\") # set language to \"ja\" if you prefer\n",
    "\n",
    "library(Seurat)\n",
    "library(tidyverse)\n",
    "library(harmony)\n",
    "library(ggplot2)\n",
    "library(future)\n",
    "library(mclust)\n",
    "library(patchwork)\n",
    "library(ggalluvial)\n",
    "library(ggrepel)\n",
    "library(RColorBrewer)\n",
    "library(slingshot)\n",
    "library(igraph)\n",
    "library(ggbeeswarm)\n",
    "\n",
    "set.seed(47);"
   ]
  },
  {
   "cell_type": "markdown",
   "id": "338b250f-ae2a-4da8-8a83-d1cfe1adfd9f",
   "metadata": {},
   "source": [
    "# Data processing and clustering"
   ]
  },
  {
   "cell_type": "code",
   "execution_count": null,
   "id": "fae2044b-728c-4d3f-b391-cfa3cd4ee2e0",
   "metadata": {},
   "outputs": [],
   "source": [
    "# Set parallel execution settings\n",
    "future::plan(\"multisession\", workers = as.integer(availableCores()/2), gc=TRUE)\n",
    "options(future.globals.maxSize = 1024*8*1024^2) # Set max variable size to 8Gb"
   ]
  },
  {
   "cell_type": "code",
   "execution_count": null,
   "id": "d2a8a7e7-d709-4837-a758-953035928ea7",
   "metadata": {},
   "outputs": [],
   "source": [
    "# Load data functions\n",
    "DATA_DIR = file.path('data','GSE243609') # change this if you put your data somewhere other than ./data/GSE243609/\n",
    "DATA_LOCATIONS <- list(\n",
    "    gnp = c(file.path(DATA_DIR,'GSM7791840_032103_filtered_feature_bc_matrix.h5'),\n",
    "           file.path(DATA_DIR,'GSM7791839_032103_fragments.tsv.gz')),\n",
    "    pnc = c(file.path(DATA_DIR,'GSM7791842_RS03056_filtered_feature_bc_matrix.h5'),\n",
    "            file.path(DATA_DIR,'GSM7791841_RS03056_fragments.tsv.gz')),\n",
    "    tumor = c(file.path(DATA_DIR,'GSM7791844_RS03060_filtered_feature_bc_matrix.h5'),\n",
    "              file.path(DATA_DIR,'GSM7791843_RS03060_fragments.tsv.gz'))\n",
    ")\n",
    "\n",
    "read_data_into_seurat <- function(experiment){\n",
    "    # experiment should be 'gnp', 'pnc', or 'tumor'\n",
    "    data <- Seurat::Read10X_h5(DATA_LOCATIONS[[experiment]][1])\n",
    "    print('loading RNA data...')\n",
    "    obj <- CreateSeuratObject(\n",
    "        counts=data$'Gene Expression',\n",
    "        project=experiment,\n",
    "        assay='RNA',\n",
    "        min.cells = 10,\n",
    "        min.features=100\n",
    "    )\n",
    "    return(obj)\n",
    "}\n",
    "\n",
    "read_annot_helper <- function(df,prefix){\n",
    "    df <- df %>% \n",
    "        filter(str_detect(cell, prefix)) %>%\n",
    "        mutate(cell = sub(\".*#\", \"\", cell)) %>%\n",
    "        column_to_rownames(., var = \"cell\")\n",
    "\n",
    "    return(df)\n",
    "}\n",
    "\n",
    "read_cell_annotations <- function(path='data/GSE243609/20241018_scRNA_CellTypeAnno_Table.csv'){\n",
    "    df = readr::read_csv(path,show_col_types = FALSE)\n",
    "    annot = list()\n",
    "    annot$gnp = read_annot_helper(df,\"^032103\")\n",
    "    annot$pnc = read_annot_helper(df,\"^RS03056\")\n",
    "    annot$tumor = read_annot_helper(df,\"^RS03060\")\n",
    "    return(annot)\n",
    "}"
   ]
  },
  {
   "cell_type": "code",
   "execution_count": null,
   "id": "22b8e302-9488-4d7f-ab30-6f808d17c2e1",
   "metadata": {},
   "outputs": [],
   "source": [
    "# Read seurat objects\n",
    "gnp_data = read_data_into_seurat('gnp')\n",
    "pnc_data = read_data_into_seurat('pnc')\n",
    "tumor_data = read_data_into_seurat('tumor')\n",
    "\n",
    "# format as list of SO\n",
    "sc_list <- list(\n",
    "    gnp = gnp_data,\n",
    "    pnc = pnc_data,\n",
    "    tumor = tumor_data\n",
    ")\n",
    "sc_list\n",
    "\n",
    "# Annotate with cell ids\n",
    "annot = read_cell_annotations()\n",
    "for (sample in names(sc_list)){\n",
    "    sc_list[[sample]]$annotation <- annot[[sample]]\n",
    "}"
   ]
  },
  {
   "cell_type": "code",
   "execution_count": null,
   "id": "f0dd1b53-e88d-448b-953b-7681ef7bef12",
   "metadata": {},
   "outputs": [],
   "source": [
    "## QC\n",
    "qc <- function(sc_list){\n",
    "    # TODO: make plots pretty colors\n",
    "    # report number of low-quality cells dropped\n",
    "    plots = list()\n",
    "    for (name in names(sc_list)){\n",
    "        x <- sc_list[[name]]\n",
    "\n",
    "        # define useful qc metrics\n",
    "        x[[\"percent.mt\"]] <- PercentageFeatureSet(x, pattern = \"^mt-\")\n",
    "        x[[\"log_count_rna\"]] <- log(x$nCount_RNA)\n",
    "        x[[\"log_features_rna\"]] <- log(x$nFeature_RNA)\n",
    "\n",
    "        # set thresholds\n",
    "        ncount_lower_threshold = exp(mean(x$log_count_rna) - 2*sd(x$log_count_rna))\n",
    "        ncount_upper_threshold = exp(mean(x$log_count_rna) + 2*sd(x$log_count_rna))\n",
    "        nfeature_lower_threshold = exp(mean(x$log_features_rna) - 2*sd(x$log_features_rna))\n",
    "        nfeature_upper_threshold = exp(mean(x$log_features_rna) + 2*sd(x$log_features_rna))\n",
    "        mitochondrial_threshold = mean(x$percent.mt) + 2*sd(x$percent.mt)\n",
    "\n",
    "        # plot thresholds\n",
    "        plots[[paste(name,\"counts\",sep=\"_\")]] <- VlnPlot(x, features=\"nCount_RNA\", log=TRUE, layer=\"counts\") + \n",
    "            geom_hline(yintercept=ncount_lower_threshold, color='red') + \n",
    "            geom_hline(yintercept=ncount_upper_threshold, color='red')\n",
    "        plots[[paste(name,\"features\",sep=\"_\")]] <- VlnPlot(x, features=\"nFeature_RNA\", log=TRUE, layer=\"counts\") +\n",
    "            geom_hline(yintercept=nfeature_lower_threshold,color='red') + \n",
    "            geom_hline(yintercept=nfeature_upper_threshold,color='red')\n",
    "        plots[[paste(name,\"mitochondria\",sep=\"_\")]] <- VlnPlot(x, features=\"percent.mt\", log=TRUE, layer=\"counts\") + \n",
    "            geom_hline(yintercept=mitochondrial_threshold,color='red')\n",
    "\n",
    "        # apply thresholds\n",
    "        sc_list[[name]] <- x %>% \n",
    "            subset(nFeature_RNA > nfeature_lower_threshold & nFeature_RNA < nfeature_upper_threshold & \n",
    "                   nCount_RNA > ncount_lower_threshold & nCount_RNA < ncount_upper_threshold & \n",
    "                   percent.mt < mitochondrial_threshold\n",
    "                  )\n",
    "    }\n",
    "    options(repr.plot.width = 12, repr.plot.height = 12)\n",
    "    combined_plot <- wrap_plots(plots) + plot_layout(ncol = 3)  # Adjust ncol as needed\n",
    "    print(combined_plot)\n",
    "    return(sc_list)\n",
    "}\n",
    "sc_list <- qc(sc_list)"
   ]
  },
  {
   "cell_type": "code",
   "execution_count": null,
   "id": "68f8f95b-65a7-4117-94ae-ac6a97a5ad4e",
   "metadata": {},
   "outputs": [],
   "source": [
    "standard_seurat_analysis <- function(seuratobj){\n",
    "    return (seuratobj %>%\n",
    "        SCTransform(verbose = FALSE, vst.flavor=\"v2\") %>%\n",
    "        RunPCA(verbose = FALSE) %>%\n",
    "        RunUMAP(dims = 1:30, verbose = FALSE) %>%\n",
    "        FindNeighbors(dims = 1:30, verbose = FALSE) %>%\n",
    "        FindClusters(verbose = FALSE)\n",
    "    )\n",
    "}\n",
    "regress_mito_seurat_analysis <- function(seuratobj){\n",
    "    return (seuratobj %>%\n",
    "        SCTransform(verbose = FALSE, vst.flavor=\"v2\",vars.to.regress = \"percent.mt\", new.assay.name = \"m_SCT\") %>%\n",
    "        RunPCA(verbose = FALSE, assay=\"m_SCT\", reduction.name=\"m_pca\") %>%\n",
    "        RunUMAP(dims = 1:30, verbose = FALSE, reduction = \"m_pca\", reduction.name = \"m_umap\") %>%\n",
    "        FindNeighbors(dims = 1:30, verbose = FALSE, reduction = \"m_pca\", graph.name = \"m_snn\") %>%\n",
    "        FindClusters(verbose = FALSE, graph.name=\"m_snn\", cluster.name=\"mito_regressed_cluster\")\n",
    "    )\n",
    "}"
   ]
  },
  {
   "cell_type": "code",
   "execution_count": null,
   "id": "736e0716-953c-4cc2-a9b3-86e9917cbd16",
   "metadata": {
    "scrolled": true
   },
   "outputs": [],
   "source": [
    "sc_list <- lapply(X=sc_list, FUN=standard_seurat_analysis)"
   ]
  },
  {
   "cell_type": "code",
   "execution_count": null,
   "id": "f0c293e8-3387-4b7f-be34-16677cff0cfd",
   "metadata": {
    "scrolled": true
   },
   "outputs": [],
   "source": [
    "sc_list <- lapply(X=sc_list, FUN=regress_mito_seurat_analysis)"
   ]
  },
  {
   "cell_type": "code",
   "execution_count": null,
   "id": "a073fba4-f753-4a7a-8d4f-71cab9f9e65a",
   "metadata": {
    "scrolled": true
   },
   "outputs": [],
   "source": [
    "sc_list[[2]][[]]"
   ]
  },
  {
   "cell_type": "code",
   "execution_count": null,
   "id": "37035f5a-fab9-4f40-a24e-4c516377dfc6",
   "metadata": {
    "scrolled": true
   },
   "outputs": [],
   "source": [
    "dimplots <- function(sc_list){\n",
    "    plots = list()\n",
    "        for (name in names(sc_list)){\n",
    "            x <- sc_list[[name]]\n",
    "            Idents(object = x) <- \"annotation\"\n",
    "            for (reduction in c(\"umap\",\"m_umap\")){\n",
    "                if (reduction == \"umap\"){\n",
    "                    negation = \"not\"\n",
    "                } else {\n",
    "                    negation = \"\"\n",
    "                }\n",
    "                title <- paste0(\"Clustering of sample \",name,'\\n',negation,\" controlling for mitochondrial read fraction\")\n",
    "                plots[[title]] <- DimPlot(x, reduction=reduction, label=TRUE, repel=TRUE) + \n",
    "                    ggtitle(title) + \n",
    "                    theme(legend.position = \"bottom\")\n",
    "            }\n",
    "            if (!F){ # don't generate this plot because it's uninformative but keep the code in case it's useful\n",
    "            frequency_table <- x[[]] %>%\n",
    "                group_by(seurat_clusters, annotation, mito_regressed_cluster) %>%\n",
    "                summarise(count = n(), .groups = 'drop')\n",
    "            plots[[paste0(name,\" alluvial\")]] <- ggplot(frequency_table,\n",
    "                    aes(axis1 = seurat_clusters,\n",
    "                        axis2 = annotation,\n",
    "                        axis3 = mito_regressed_cluster,\n",
    "                        y = count)) +\n",
    "                geom_flow(aes(fill = annotation),decreasing=FALSE) +\n",
    "                geom_stratum(decreasing=FALSE) +\n",
    "                geom_text(stat = \"stratum\", decreasing=FALSE,\n",
    "                    aes(label = after_stat(stratum)))\n",
    "            }\n",
    "        }\n",
    "    options(repr.plot.width = 20, repr.plot.height = 16)\n",
    "    combined_plot <- wrap_plots(plots) + plot_layout(ncol = 3)\n",
    "    print(combined_plot)\n",
    "    return()\n",
    "}\n",
    "dimplots(sc_list)"
   ]
  },
  {
   "cell_type": "code",
   "execution_count": null,
   "id": "cf45eb7e-ebb2-4d63-822b-5b3d3210930c",
   "metadata": {},
   "outputs": [],
   "source": [
    "sc_list <- lapply(X=sc_list, FUN=function(x){\n",
    "    DefaultAssay(x) <- \"m_SCT\"\n",
    "    return(x)\n",
    "})"
   ]
  },
  {
   "cell_type": "code",
   "execution_count": null,
   "id": "99eff260-6c61-4d69-90d4-1a32224e1f41",
   "metadata": {},
   "outputs": [],
   "source": [
    "options(repr.plot.width = 20, repr.plot.height = 20)\n",
    "ncol=5\n",
    "features=c(\"Gli1\",\"Gli2\",\"Mki67\",\"Ctnnb1\",\"Birc5\",\"Ntrk3\",\n",
    "           \"Trp53\",\"Pten\",\"Tll1\",\"Tex14\",\n",
    "           \"Rbfox3\",\"Cntn2\",\"Neurod1\",\"Cacna1e\",\"Kcnk1\",\"Grin2b\",\"Cntnap4\",\"Samd12\",\"Zmat4\",\n",
    "           \"Prom1\",\"Myc\",\"Scrt2\")\n",
    "FeaturePlot(sc_list[[1]], slot='data', features=features,ncol=ncol, label=TRUE)\n",
    "FeaturePlot(sc_list[[2]], slot='data', features=features,ncol=ncol, label=TRUE)\n",
    "FeaturePlot(sc_list[[3]], slot='data', features=features,ncol=ncol, label=TRUE)"
   ]
  },
  {
   "cell_type": "code",
   "execution_count": null,
   "id": "24b804c1-e33f-4ae7-8766-4d5d7ff6bb9f",
   "metadata": {},
   "outputs": [],
   "source": [
    "saveRDS(sc_list, \"out/seuratobject_list.rds\")"
   ]
  },
  {
   "cell_type": "code",
   "execution_count": null,
   "id": "ecb39329-0827-412f-b68c-ed59462872f3",
   "metadata": {},
   "outputs": [],
   "source": [
    "# Read this list of seuratobjects with readRDS\n",
    "sc_list <- readRDS(\"out/seuratobject_list.rds\")"
   ]
  },
  {
   "cell_type": "markdown",
   "id": "064110cc-9bd2-4515-b7e5-74c16d22991d",
   "metadata": {},
   "source": [
    "# Dead code"
   ]
  },
  {
   "cell_type": "code",
   "execution_count": null,
   "id": "2e953e57-7f5a-48d0-8bd2-73ef48b34999",
   "metadata": {},
   "outputs": [],
   "source": [
    "# Signac hangs on CreateChromatinAssay during \"computing hash\" step.\n",
    "# possible causes:\n",
    "#  Apple silicon architecture?\n",
    "#  Just requires a ton of resources?\n",
    "#  May need to load multiome data on shirokane, or use a different tool.\n",
    "\n",
    "library(Signac)\n",
    "library(BSgenome.Mmusculus.UCSC.mm10)\n",
    "library(EnsDb.Mmusculus.v79)\n",
    "\n",
    "ANNOTATION <- GetGRangesFromEnsDb(ensdb = EnsDb.Mmusculus.v79)\n",
    "seqlevelsStyle(ANNOTATION) <- 'UCSC'\n",
    "genome(ANNOTATION) <- \"mm10\"\n",
    "\n",
    "print('loading ATAC data...')\n",
    "atac_counts <- data$Peaks\n",
    "grange.counts <- StringToGRanges(rownames(atac_counts), sep = c(\":\", \"-\"))\n",
    "grange.use <- seqnames(grange.counts) %in% standardChromosomes(grange.counts)\n",
    "atac_counts <- atac_counts[as.vector(grange.use), ]\n",
    "obj[[\"ATAC\"]] <- CreateChromatinAssay(\n",
    "    counts = atac_counts,\n",
    "    sep = c(\":\", \"-\"),\n",
    "    genome = 'mm10',\n",
    "    fragments = DATA_LOCATIONS[[experiment]][2],\n",
    "    min.cells = 10,\n",
    "    min.features = 100,\n",
    "    annotation = ANNOTATION\n",
    ")"
   ]
  },
  {
   "cell_type": "code",
   "execution_count": null,
   "id": "f74fc5f7-ce26-4d1f-95aa-89f43f5138b4",
   "metadata": {},
   "outputs": [],
   "source": []
  }
 ],
 "metadata": {
  "kernelspec": {
   "display_name": "sc-multiome",
   "language": "R",
   "name": "sc-multiome"
  },
  "language_info": {
   "codemirror_mode": "r",
   "file_extension": ".r",
   "mimetype": "text/x-r-source",
   "name": "R",
   "pygments_lexer": "r",
   "version": "4.3.3"
  }
 },
 "nbformat": 4,
 "nbformat_minor": 5
}
