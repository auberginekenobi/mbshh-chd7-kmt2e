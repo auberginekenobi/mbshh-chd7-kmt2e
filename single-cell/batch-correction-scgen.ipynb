{
 "cells": [
  {
   "cell_type": "markdown",
   "id": "67f318c1-9bb9-41fb-9c10-28a05ffd433c",
   "metadata": {},
   "source": [
    "# scGen batch correction\n",
    "Based on tutorial at https://scgen.readthedocs.io/en/stable/tutorials/scgen_batch_removal.html.  \n",
    "**Prerequisites**: Perform preprocessing and data conversion in `preprocessing.ipynb` and `object-conversion.ipynb` respectively.\n",
    "\n",
    "## Installation\n",
    "```\n",
    "# Install this environment from file\n",
    "conda env create -f scgen.yml\n",
    "\n",
    "# Link this env to jupyter\n",
    "conda activate scgen; python -m ipykernel install --user --name scgen --display-name \"scgen\"; conda deactivate\n",
    "```\n",
    "https://scgen.readthedocs.io/en/stable/installation.html#conda-prerequisites  \n",
    "\n",
    "## Results\n",
    "Batch correction appears moderately successful. Model parameters are saved in out/scgen-batch-model.pt.  \n",
    "Comparing gene expression for Neurod1 in gnp, pnc and tumor cells.  \n",
    "Outputs:\n",
    "- before/after correction umaps saved to figures/umap_scgen*.png\n",
    "- neurod1 gene expression for hyperplastic cells in each sample saved to figures/neurod1_gex.svg\n",
    "- statistical tests saved to out/scgen.log"
   ]
  },
  {
   "cell_type": "code",
   "execution_count": null,
   "id": "81868d6b-211f-4784-9955-a4c150f7622e",
   "metadata": {
    "scrolled": true
   },
   "outputs": [],
   "source": [
    "import scanpy as sc\n",
    "import anndata as ad\n",
    "import pandas as pd\n",
    "import scgen\n",
    "import scvi\n",
    "import warnings\n",
    "import matplotlib as mpl\n",
    "import matplotlib.pyplot as plt\n",
    "import seaborn as sns\n",
    "import scipy.stats as stats\n",
    "import math\n",
    "from statsmodels.stats.multitest import fdrcorrection\n",
    "\n",
    "# Send print statements to a logfile\n",
    "import logging\n",
    "logging.basicConfig(level=logging.INFO, format='%(message)s')\n",
    "logger = logging.getLogger()\n",
    "logger.addHandler(logging.FileHandler('out/scgen.log', 'w'))\n",
    "print = logger.info\n"
   ]
  },
  {
   "cell_type": "code",
   "execution_count": null,
   "id": "c144d302-b834-476e-8728-edb3e92623c9",
   "metadata": {},
   "outputs": [],
   "source": [
    "# Read data\n",
    "def read_shiraishi_data():\n",
    "    '''\n",
    "    Read h5ad files produced by object_conversions.ipynb.\n",
    "    '''\n",
    "    # Read and add sample-specific annotations\n",
    "    samples = []\n",
    "    for s in ['gnp','pnc','tumor']:\n",
    "        obj = ad.read_h5ad(f'out/{s}_anndata.h5ad')\n",
    "        obj.obs['sample'] = s\n",
    "        obj.obs.index = obj.obs.index.map(lambda x:x+'_'+s)\n",
    "        samples.append(obj)\n",
    "    # cat\n",
    "    cells = ad.concat(samples, join=\"inner\")\n",
    "    # delete data that are no longer meaningful after the merge\n",
    "    cells.obs = cells.obs.drop(['mito_regressed_cluster','seurat_clusters','SCT_snn_res.0.8','nCount_SCT','nFeature_SCT'],axis='columns')\n",
    "    del cells.obsm\n",
    "    # scGen requires labels; drop unlabelled cells\n",
    "    cells = cells[~cells.obs.annotation.isna()]\n",
    "    return cells"
   ]
  },
  {
   "cell_type": "code",
   "execution_count": null,
   "id": "58d52750-ff69-4f64-80d9-67073f91466c",
   "metadata": {},
   "outputs": [],
   "source": [
    "cells = read_shiraishi_data()\n",
    "cells"
   ]
  },
  {
   "cell_type": "code",
   "execution_count": null,
   "id": "4b5b536c-8b4f-4221-a084-c868fe1090b6",
   "metadata": {},
   "outputs": [],
   "source": [
    "# embeddings before batch correction\n",
    "sc.pp.pca(cells)\n",
    "sc.pp.neighbors(cells,n_pcs=30)\n",
    "sc.tl.umap(cells)"
   ]
  },
  {
   "cell_type": "code",
   "execution_count": null,
   "id": "166e9a56-5fe0-499f-9201-23a594d00843",
   "metadata": {},
   "outputs": [],
   "source": [
    "mpl.rcParams['figure.figsize'] = (6, 6)\n",
    "sc.pl.umap(cells, color=[\"sample\", \"annotation\",'Neurod1','Mki67'], frameon=False, save='_scgen_preintegration.png')"
   ]
  },
  {
   "cell_type": "code",
   "execution_count": null,
   "id": "6f3a6e5d-7fd0-45bb-b766-98275e80b5fd",
   "metadata": {},
   "outputs": [],
   "source": [
    "cells = cells.copy()\n",
    "scgen.SCGEN.setup_anndata(cells, batch_key=\"sample\", labels_key=\"annotation\")"
   ]
  },
  {
   "cell_type": "code",
   "execution_count": null,
   "id": "83ce3319-ecd8-41d1-bce9-4fb9a321c6c8",
   "metadata": {},
   "outputs": [],
   "source": [
    "model = scgen.SCGEN(cells)\n",
    "#model.save(\"out/scgen-batch-model.pt\", overwrite=True)"
   ]
  },
  {
   "cell_type": "code",
   "execution_count": null,
   "id": "3c73c8ab-2370-4c8b-ad1e-1714b8b21905",
   "metadata": {},
   "outputs": [],
   "source": [
    "# warnings suggest changing settings to speed up training\n",
    "scvi.settings.dl_num_workers=11\n",
    "\n",
    "model.train(\n",
    "    accelerator='gpu',\n",
    "    max_epochs=100,\n",
    "    batch_size=32,\n",
    "    early_stopping=True,\n",
    "    early_stopping_patience=25,\n",
    ")\n",
    "#TODO: The 'train_dataloader' does not have many workers which may be a bottleneck. Consider increasing the value of the `num_workers` argument` to `num_workers=11` \n",
    "# in the `DataLoader` to improve performance."
   ]
  },
  {
   "cell_type": "code",
   "execution_count": null,
   "id": "de74a50e-2cc0-4246-ac74-a6c07bdbe538",
   "metadata": {},
   "outputs": [],
   "source": [
    "model.save(\"out/scgen-batch-model.pt\", overwrite=True)"
   ]
  },
  {
   "cell_type": "code",
   "execution_count": null,
   "id": "60efd011-150d-4eff-8edc-924b927b2ec9",
   "metadata": {},
   "outputs": [],
   "source": [
    "# checkpoint: load model if it isn't already\n",
    "if 'model' not in globals():\n",
    "    model = scgen.SCGEN.load(\"out/scgen-batch-model.pt\",adata=cells)"
   ]
  },
  {
   "cell_type": "code",
   "execution_count": null,
   "id": "f88c64d3-cf0e-4718-82fb-41f3f97c24e6",
   "metadata": {},
   "outputs": [],
   "source": [
    "# NB: scGen is bugged, need to change scvi code. See\n",
    "# https://github.com/theislab/scgen/issues/101\n",
    "with warnings.catch_warnings():\n",
    "    warnings.simplefilter(action='ignore', category=FutureWarning)\n",
    "    model.get_latent_representation()"
   ]
  },
  {
   "cell_type": "code",
   "execution_count": null,
   "id": "05a07358-df95-44fb-9b5d-9d723e5621a4",
   "metadata": {
    "scrolled": true
   },
   "outputs": [],
   "source": [
    "# A bunch of concerning futurewarnings...\n",
    "corrected_cells = model.batch_removal()\n",
    "corrected_cells"
   ]
  },
  {
   "cell_type": "code",
   "execution_count": null,
   "id": "ef1dfbf8-2901-473c-8526-83043bb0faf0",
   "metadata": {},
   "outputs": [],
   "source": [
    "corrected_cells.write('out/shiraishi_merge.h5ad')"
   ]
  },
  {
   "cell_type": "code",
   "execution_count": null,
   "id": "5ce18f3a-2f8d-4e34-af18-223fdc8a07a9",
   "metadata": {},
   "outputs": [],
   "source": [
    "sc.pp.pca(corrected_cells)\n",
    "sc.pp.neighbors(corrected_cells,n_pcs=30)\n",
    "sc.tl.umap(corrected_cells)"
   ]
  },
  {
   "cell_type": "code",
   "execution_count": null,
   "id": "e9f513e5-2f1b-4f66-8f61-969f3925563e",
   "metadata": {},
   "outputs": [],
   "source": [
    "mpl.rcParams['figure.figsize'] = (6, 6)\n",
    "sc.pl.umap(corrected_cells, color=['sample', 'annotation','Neurod1','Mki67'], frameon=False, save='_scgen_postintegration.png')"
   ]
  },
  {
   "cell_type": "markdown",
   "id": "c31bfd73-4e8a-4ce3-8351-db9ec788dab8",
   "metadata": {},
   "source": [
    "## Plot gene expression"
   ]
  },
  {
   "cell_type": "code",
   "execution_count": null,
   "id": "837f1397-b574-4288-807a-1f9825304f12",
   "metadata": {},
   "outputs": [],
   "source": [
    "path='out/shiraishi_merge.h5ad'\n",
    "corrected_cells=ad.read_h5ad(path)"
   ]
  },
  {
   "cell_type": "code",
   "execution_count": null,
   "id": "b3d0bb86-24ac-4339-9833-0038d706b8de",
   "metadata": {},
   "outputs": [],
   "source": [
    "asdf = sns.color_palette(\"tab10\")\n",
    "print(asdf.as_hex())"
   ]
  },
  {
   "cell_type": "code",
   "execution_count": null,
   "id": "f7a722b3-3e5e-4dec-9299-57e75812bf06",
   "metadata": {},
   "outputs": [],
   "source": [
    "import statistics\n",
    "def plot_gex(anndata,genes):\n",
    "    '''\n",
    "    Plot gene expression in hyperplastic cells (ProliferativeCells, DifferentiatedCells).\n",
    "    '''\n",
    "    # data formatting\n",
    "    df = anndata.obs.copy()\n",
    "    df = df.merge(anndata[:,genes].to_df(),left_index=True,right_index=True)\n",
    "    df = df[df.annotation.isin(['ProliferativeCells','DifferentiatedCells'])]\n",
    "    data_long = pd.melt(df, id_vars=['sample'],value_vars=genes, var_name='gene',value_name='expression')\n",
    "    # plot formatting\n",
    "    plt.rcParams['figure.figsize'] = (5,5)\n",
    "    plt.rcParams['svg.fonttype'] = 'none'\n",
    "    plt.rcParams['font.family'] = 'Arial'\n",
    "    sns.set_theme(style='ticks')\n",
    "    ax = sns.violinplot(x='sample',y='expression',data=data_long,inner='box',legend=False,palette=['#1f77b4','#bcbd22','#d62728'])\n",
    "    sns.despine()\n",
    "    return ax\n",
    "\n",
    "def run_statistics(anndata,genes):\n",
    "    print(f'Running Mann-Whitney U test to compare medians of {genes} gene expression...')\n",
    "    df = anndata.obs.copy()\n",
    "    df = df.merge(anndata[:,genes].to_df(),left_index=True,right_index=True)\n",
    "    df = df[df.annotation.isin(['ProliferativeCells','DifferentiatedCells'])]\n",
    "    # Initialize a list to store p-values\n",
    "    p_values = []\n",
    "    # Perform Mann-Whitney U test for each gene\n",
    "    samples = df['sample'].unique()\n",
    "    for gene in genes:\n",
    "        for i in range(len(samples)):\n",
    "            si = samples[i]\n",
    "            class1_values = df[df['sample'] == si][gene].values\n",
    "            print(f'{si}: n = {len(class1_values)} observations, median {statistics.median(class1_values)}.')\n",
    "            for j in range(i+1,len(samples)):\n",
    "                sj=samples[j]\n",
    "                class2_values = df[df['sample'] == sj][gene].values\n",
    "                if len(class1_values) > 1 and len(class2_values) > 1:  # Ensure there are enough values for the test\n",
    "                    stat, p_value = stats.mannwhitneyu(class1_values, class2_values)\n",
    "                    p_values.append(p_value)\n",
    "                else:\n",
    "                    warnings.warn(f'not enough data for test: {gene} {si} {sj}')\n",
    "                    p_values.append(1.0)  # If there's not enough data, assign a non-significant p-value\n",
    "                \n",
    "    # Apply Benjamini-Hochberg correction\n",
    "    _, p_values_corrected = fdrcorrection(p_values)\n",
    "    n = len(samples)\n",
    "    for g in range(len(genes)):\n",
    "        gene = genes[g]\n",
    "        for i in range(n):\n",
    "            for j in range(i+1,n):\n",
    "                k = int(math.comb(n,2)*g +i*(n-1) - i**2/2 - i/2  +j -1)\n",
    "                print(f'Mann-Whitney U test for {gene}, {samples[i]} vs {samples[j]}: p-value: {p_values[k]}, Corrected p-value: {p_values_corrected[k]}')\n",
    "    return"
   ]
  },
  {
   "cell_type": "code",
   "execution_count": null,
   "id": "7a87f0b5-cce2-41cd-b1e7-7e2fb24abb5d",
   "metadata": {},
   "outputs": [],
   "source": [
    "ax = plot_gex(corrected_cells,['Neurod1'])\n",
    "ax.figure.savefig('figures/neurod1_gex.svg')\n",
    "run_statistics(corrected_cells,['Neurod1'])"
   ]
  },
  {
   "cell_type": "code",
   "execution_count": null,
   "id": "bbf64041-fe1d-484c-8881-00fdfeb59b80",
   "metadata": {},
   "outputs": [],
   "source": [
    "ax = plot_gex(corrected_cells,['Grin2b'])\n",
    "ax.figure.savefig('figures/Grin2b_gex.svg')\n",
    "run_statistics(corrected_cells,['Grin2b'])"
   ]
  },
  {
   "cell_type": "code",
   "execution_count": null,
   "id": "894c9f52-feb0-4047-8946-b4dce8610cfa",
   "metadata": {},
   "outputs": [],
   "source": []
  }
 ],
 "metadata": {
  "kernelspec": {
   "display_name": "scgen",
   "language": "python",
   "name": "scgen"
  },
  "language_info": {
   "codemirror_mode": {
    "name": "ipython",
    "version": 3
   },
   "file_extension": ".py",
   "mimetype": "text/x-python",
   "name": "python",
   "nbconvert_exporter": "python",
   "pygments_lexer": "ipython3",
   "version": "3.12.7"
  }
 },
 "nbformat": 4,
 "nbformat_minor": 5
}
